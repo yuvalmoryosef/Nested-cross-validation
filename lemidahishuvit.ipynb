{
 "cells": [
  {
   "cell_type": "code",
   "execution_count": 2,
   "metadata": {
    "_cell_guid": "b1076dfc-b9ad-4769-8c92-a6c4dae69d19",
    "_uuid": "8f2839f25d086af736a60e9eeb907d3b93b6e0e5",
    "colab": {
     "base_uri": "https://localhost:8080/"
    },
    "id": "r-H7fbS7Y8_q",
    "outputId": "8d017fa3-833e-4328-e215-d5445048ab4c"
   },
   "outputs": [
    {
     "name": "stdout",
     "output_type": "stream",
     "text": [
      "Collecting catboost\n",
      "\u001b[?25l  Downloading https://files.pythonhosted.org/packages/47/80/8e9c57ec32dfed6ba2922bc5c96462cbf8596ce1a6f5de532ad1e43e53fe/catboost-0.25.1-cp37-none-manylinux1_x86_64.whl (67.3MB)\n",
      "\u001b[K     |████████████████████████████████| 67.3MB 43kB/s \n",
      "\u001b[?25hRequirement already satisfied: matplotlib in /usr/local/lib/python3.7/dist-packages (from catboost) (3.2.2)\n",
      "Requirement already satisfied: scipy in /usr/local/lib/python3.7/dist-packages (from catboost) (1.4.1)\n",
      "Requirement already satisfied: graphviz in /usr/local/lib/python3.7/dist-packages (from catboost) (0.10.1)\n",
      "Requirement already satisfied: plotly in /usr/local/lib/python3.7/dist-packages (from catboost) (4.4.1)\n",
      "Requirement already satisfied: pandas>=0.24.0 in /usr/local/lib/python3.7/dist-packages (from catboost) (1.1.5)\n",
      "Requirement already satisfied: six in /usr/local/lib/python3.7/dist-packages (from catboost) (1.15.0)\n",
      "Requirement already satisfied: numpy>=1.16.0 in /usr/local/lib/python3.7/dist-packages (from catboost) (1.19.5)\n",
      "Requirement already satisfied: pyparsing!=2.0.4,!=2.1.2,!=2.1.6,>=2.0.1 in /usr/local/lib/python3.7/dist-packages (from matplotlib->catboost) (2.4.7)\n",
      "Requirement already satisfied: cycler>=0.10 in /usr/local/lib/python3.7/dist-packages (from matplotlib->catboost) (0.10.0)\n",
      "Requirement already satisfied: python-dateutil>=2.1 in /usr/local/lib/python3.7/dist-packages (from matplotlib->catboost) (2.8.1)\n",
      "Requirement already satisfied: kiwisolver>=1.0.1 in /usr/local/lib/python3.7/dist-packages (from matplotlib->catboost) (1.3.1)\n",
      "Requirement already satisfied: retrying>=1.3.3 in /usr/local/lib/python3.7/dist-packages (from plotly->catboost) (1.3.3)\n",
      "Requirement already satisfied: pytz>=2017.2 in /usr/local/lib/python3.7/dist-packages (from pandas>=0.24.0->catboost) (2018.9)\n",
      "Installing collected packages: catboost\n",
      "Successfully installed catboost-0.25.1\n"
     ]
    }
   ],
   "source": [
    "!pip install catboost\n",
    "import statistics\n",
    "# # Install a pip package in the current Jupyter kernel\n",
    "# import sys\n",
    "# !{sys.executable} -m pip install numpy\n",
    "from sklearn.experimental import enable_iterative_imputer\n",
    "from sklearn.impute import IterativeImputer\n",
    "import pandas as pd\n",
    "import numpy as np\n",
    "from imblearn.over_sampling import SMOTE, SVMSMOTE\n",
    "from sklearn import svm\n",
    "from sklearn.datasets import make_classification\n",
    "from sklearn.ensemble import RandomForestClassifier\n",
    "from sklearn.experimental import enable_iterative_imputer\n",
    "from sklearn.impute import IterativeImputer\n",
    "from sklearn.linear_model import BayesianRidge, LinearRegression\n",
    "from sklearn.metrics import f1_score, accuracy_score, classification_report, roc_auc_score, roc_curve, confusion_matrix\n",
    "from sklearn.model_selection import KFold, StratifiedKFold, GridSearchCV, train_test_split, cross_val_score, \\\n",
    "    ShuffleSplit\n",
    "from sklearn.linear_model import LogisticRegression\n",
    "from sklearn.neural_network import MLPClassifier\n",
    "from sklearn.svm import SVC\n",
    "from tqdm import tqdm\n",
    "import xgboost as xgb\n",
    "from matplotlib import pyplot\n",
    "from catboost import CatBoostClassifier\n",
    "import lightgbm as lgb\n",
    "import warnings\n",
    "warnings.filterwarnings(\"ignore\")\n",
    "warnings.filterwarnings(\"ignore\", message=\"the default evaluation metric used with the objective 'binary:logistic' was changed from 'error' to 'logloss'\")"
   ]
  },
  {
   "cell_type": "code",
   "execution_count": 3,
   "metadata": {
    "id": "dq9Ft83qY8_1"
   },
   "outputs": [],
   "source": [
    "def fill_missing_values(df_to_fill):\n",
    "    df_to_fill.dropna(how='all')\n",
    "    df_to_fill = df_to_fill.apply(lambda x: x.fillna(x.mean()),axis=0)\n",
    "    print(df_to_fill)\n",
    "    return df_to_fill"
   ]
  },
  {
   "cell_type": "code",
   "execution_count": 4,
   "metadata": {
    "id": "y3hKoyOIY8_3"
   },
   "outputs": [],
   "source": [
    "def pre_processing(df_in):\n",
    "    preproc_df=df_in\n",
    "    print(\"Start Pre-processing\")\n",
    "    to_drop = ['Patient ID',\n",
    "               'Patient age quantile',\n",
    "               'Patient addmited to regular ward (1=yes, 0=no)',\n",
    "               'Patient addmited to semi-intensive unit (1=yes, 0=no)',\n",
    "               'Patient addmited to intensive care unit (1=yes, 0=no)',\n",
    "               'Urine - Esterase',\n",
    "               'Urine - pH',\n",
    "               'Urine - Hemoglobin',\n",
    "               'Urine - Bile pigments',\n",
    "               'Urine - Ketone Bodies',\n",
    "               'Urine - Nitrite',\n",
    "               'Urine - Density',\n",
    "               'Urine - Urobilinogen',\n",
    "               'Urine - Protein',\n",
    "               'Urine - Sugar',\n",
    "               'Urine - Leukocytes',\n",
    "               'Urine - Crystals',\n",
    "               'Urine - Red blood cells',\n",
    "               'Urine - Hyaline cylinders',\n",
    "               'Urine - Granular cylinders',\n",
    "               'Urine - Yeasts',\n",
    "               'Urine - Color',\n",
    "               'Influenza A',\n",
    "               'Influenza B',\n",
    "               'Parainfluenza 1',\n",
    "               'Parainfluenza 3',\n",
    "               'Parainfluenza 2',\n",
    "               'Parainfluenza 4',\n",
    "               'Respiratory Syncytial Virus',\n",
    "               'CoronavirusNL63',\n",
    "               'Coronavirus HKU1',\n",
    "               'Coronavirus229E',\n",
    "               'CoronavirusOC43',\n",
    "               'Inf A H1N1 2009',\n",
    "               'Influenza B, rapid test',\n",
    "               'Influenza A, rapid test',\n",
    "               'Strepto A',\n",
    "               'Metapneumovirus',\n",
    "               'Adenovirus',\n",
    "               'Chlamydophila pneumoniae',\n",
    "               'Bordetella pertussis',\n",
    "               'Rhinovirus/Enterovirus']\n",
    "\n",
    "    preproc_df.drop(to_drop, inplace=True, axis=1)\n",
    "\n",
    "    pct_null = preproc_df.isnull().sum() / len(preproc_df)\n",
    "    missing_features = pct_null[pct_null > 0.95].index\n",
    "    preproc_df.drop(missing_features, axis=1, inplace=True)\n",
    "\n",
    "    # imputer = IterativeImputer(BayesianRidge())\n",
    "    # impute_data = pd.DataFrame(imputer.fit_transform(df))\n",
    "\n",
    "    preproc_df[\"SARS-Cov-2 exam result\"].replace(to_replace=['positive', 'negative'], value=[1, 0], inplace=True)\n",
    "    columns = preproc_df.columns.to_list()\n",
    "    columns.remove('SARS-Cov-2 exam result')\n",
    "    preproc_df = preproc_df.dropna(subset=columns, axis=0, how='all')\n",
    "    #     df = df.apply(lambda x: x.fillna(x.mean()),axis=0)\n",
    "    print(\"Done pre-processing\")\n",
    "    return preproc_df"
   ]
  },
  {
   "cell_type": "code",
   "execution_count": 5,
   "metadata": {
    "id": "lVyCfydbY8_8"
   },
   "outputs": [],
   "source": [
    "def evaluation_models(data_in):\n",
    "    print(\"Start evaluate models using nested cross-validation\")\n",
    "    data = data_in\n",
    "    y = data[\"SARS-Cov-2 exam result\"].to_numpy()\n",
    "    X = data.drop(\"SARS-Cov-2 exam result\", axis=1).to_numpy()\n",
    "\n",
    "    models_to_run = [RandomForestClassifier(), xgb.XGBClassifier(use_label_encoder=False, verbosity=0),\n",
    "                     LogisticRegression(), svm.SVC(), MLPClassifier()]\n",
    "    models_param_grid = [\n",
    "        {  # 1st param grid, corresponding to RandomForestClassifier\n",
    "            'max_depth': [2, 4, 8, 16, 32, 64],\n",
    "            'n_estimators': [10, 20, 30, 45, 50, 55, 60, 65, 70, 75, 80, 85, 90, 95, 100],\n",
    "        },\n",
    "        {  # 2nd param grid, corresponding to XGBClassifier\n",
    "            'learning_rate': [0.1, 0.05, 0.01],\n",
    "            'max_depth': [2, 4, 8, 16, 32, 64],\n",
    "            'n_estimators': [10, 20, 30, 45, 50, 55, 60, 65, 70, 75, 80, 85, 90, 95, 100],\n",
    "        },\n",
    "        {  # 3rd param grid, corresponding to Linear Regression\n",
    "\n",
    "        },\n",
    "        {  # 4 param grid, corresponding to SVC\n",
    "            'kernel': ['rbf', 'linear'],\n",
    "            'C': [0.001, 0.01, 0.05, 0.1, 0.5, 1, 10],\n",
    "            'gamma': [0.001, 0.01, 0.05, 0.1, 0.5, 1, 10]\n",
    "\n",
    "        },\n",
    "        {  # 5 param grid, corresponding to MLP\n",
    "            'hidden_layer_sizes': [(64, 32, 16), (32, 32, 16), (64, 32, 32), (64, 64, 32, 32)],\n",
    "            'alpha': [0.01, 0.05, 0.005, 0.001, 0.0001],\n",
    "            'learning_rate': ['adaptive'],\n",
    "        }\n",
    "    ]\n",
    "    best_models = []\n",
    "    model_accuracies = []\n",
    "    for i, model in enumerate(models_to_run):\n",
    "        print(\"Evaluate \", model)\n",
    "        # configure the cross-validation procedure\n",
    "        cv_outer = KFold(n_splits=5, shuffle=True, random_state=1)\n",
    "        # enumerate splits\n",
    "        outer_results = list()\n",
    "        accuracies = list()\n",
    "        for train_ix, test_ix in cv_outer.split(X):\n",
    "            # split data\n",
    "            X_train, X_test = X[train_ix], X[test_ix]\n",
    "            y_train, y_test = y[train_ix], y[test_ix]\n",
    "            imp = IterativeImputer()\n",
    "            X_train = imp.fit_transform(X_train)\n",
    "            X_test = imp.transform(X_test)\n",
    "            # using SMOTE\n",
    "            smote = SVMSMOTE(random_state=101, k_neighbors=5)\n",
    "            X_train, y_train = smote.fit_resample(X_train, y_train)\n",
    "            if (i != 2):\n",
    "                # configure the cross-validation procedure\n",
    "                cv_inner = KFold(n_splits=5, shuffle=True, random_state=1)\n",
    "                # define search\n",
    "                search = GridSearchCV(models_to_run[i], models_param_grid[i], scoring='f1', cv=cv_inner, refit=True)\n",
    "                # execute search\n",
    "                result = search.fit(X_train, y_train)\n",
    "                # get the best performing model fit on the whole training set\n",
    "                best_model = result.best_estimator_\n",
    "            # in case of LinearRegression\n",
    "            elif (i == 2):\n",
    "                best_model = models_to_run[i].fit(X_train, y_train)\n",
    "            # evaluate model on the hold out dataset\n",
    "            yhat = best_model.predict(X_test)\n",
    "            # evaluate the model\n",
    "            accuracy = accuracy_score(y_test, yhat)\n",
    "            accuracies.append(accuracy)\n",
    "            # save a tuple for each running - the model and it's accuracy\n",
    "            tuple_to_add = (accuracy, best_model)\n",
    "            # store the result\n",
    "            outer_results.append(tuple_to_add)\n",
    "        model_accuracies.append(np.mean(accuracies))\n",
    "        # check what model brings the best accuracy\n",
    "        max_accuracy = 0\n",
    "        for tup in outer_results:\n",
    "            if tup[0] > max_accuracy:\n",
    "                best_model = tup[1]\n",
    "                max_accuracy = tup[0]\n",
    "        # save the best model\n",
    "        # the i place in the array represent the i model as declared before\n",
    "        best_models.append(best_model)\n",
    "        print(\"Chosen best model:\", best_model)\n",
    "\n",
    "    return best_models, model_accuracies"
   ]
  },
  {
   "cell_type": "code",
   "execution_count": 6,
   "metadata": {
    "id": "SwdXgBLeY9AM"
   },
   "outputs": [],
   "source": [
    "def runWithBestParams(data_in, best_Models, model_accuracies, models_scores):\n",
    "    data = data_in\n",
    "    y = data[\"SARS-Cov-2 exam result\"]\n",
    "    X = data.drop(\"SARS-Cov-2 exam result\", axis=1).to_numpy()\n",
    "    print(\"Run 10 times each model with best params\")\n",
    "    # run for each algorithm 10 times, each time with different 80% of training set\n",
    "    for index, model in enumerate(best_Models):\n",
    "        print(\"Run model \", model)\n",
    "        accuracies = []\n",
    "        f1Scores = []\n",
    "        sensitivities = []\n",
    "        specificities = []\n",
    "        roc_auc = []\n",
    "        for k in range(10):\n",
    "            X_train, X_test, y_train, y_test = train_test_split(X, y, test_size=0.2)\n",
    "            imp = IterativeImputer()\n",
    "            X_train = imp.fit_transform(X_train)\n",
    "            X_test = imp.transform(X_test)\n",
    "            smote = SVMSMOTE(random_state=101, k_neighbors=5)\n",
    "            X_train, y_train = smote.fit_resample(X_train, y_train)\n",
    "            model.fit(X_train, y_train)\n",
    "            prediction = model.predict(X_test)\n",
    "            accuracies.append(accuracy_score(y_test, prediction))\n",
    "            f1Scores.append(f1_score(y_test, prediction))\n",
    "            tn, fp, fn, tp = confusion_matrix(y_test, prediction).ravel()\n",
    "            sensitivities.append(tp / (tp + fn))\n",
    "            specificities.append(tn / (tn + fp))\n",
    "            roc_auc.append(roc_auc_score(y_test.array, prediction))\n",
    "\n",
    "        models_scores[index]['accuracy'] = (statistics.mean(accuracies), statistics.stdev(accuracies))\n",
    "        models_scores[index]['f1Score'] = (statistics.mean(f1Scores), statistics.stdev(f1Scores))\n",
    "        models_scores[index]['sensitivity'] = (statistics.mean(sensitivities), statistics.stdev(sensitivities))\n",
    "        models_scores[index]['specificity'] = (statistics.mean(specificities), statistics.stdev(specificities))\n",
    "        models_scores[index]['roc_auc'] = (statistics.mean(roc_auc), statistics.stdev(roc_auc))\n",
    "        print(\"Results for model \", model)\n",
    "        print(models_scores[index])\n"
   ]
  },
  {
   "cell_type": "code",
   "execution_count": 7,
   "metadata": {
    "id": "c1HBC3J_Y9AO"
   },
   "outputs": [],
   "source": [
    "def runEnsemble(best_models, model_accuracies, data_in, models_scores):\n",
    "    # preparing data\n",
    "    data = data_in\n",
    "    y = data[\"SARS-Cov-2 exam result\"].to_numpy()\n",
    "    X = data.drop(\"SARS-Cov-2 exam result\", axis=1).to_numpy()\n",
    "    print(\"Run ensemble algorithm\")\n",
    "    # prepare weights\n",
    "    weights = np.empty(5)\n",
    "    weights.fill(1)\n",
    "    # increase weight of most accurate model\n",
    "    max_value = max(model_accuracies)\n",
    "    max_index = model_accuracies.index(max_value)\n",
    "    weights[max_index] = 2\n",
    "    # decrease weight of least accurate model\n",
    "    min_value = min(model_accuracies)\n",
    "    min_index = model_accuracies.index(min_value)\n",
    "    weights[min_index] = 0\n",
    "\n",
    "    # split data to train and test\n",
    "    X_train, X_test, y_train, y_test = train_test_split(X, y, test_size=0.2, random_state=42)\n",
    "    imp = IterativeImputer()\n",
    "    X_train = imp.fit_transform(X_train)\n",
    "    X_test = imp.transform(X_test)\n",
    "    smote = SVMSMOTE(random_state=101, k_neighbors=5)\n",
    "    X_train, y_train = smote.fit_resample(X_train, y_train)\n",
    "    accuracies = []\n",
    "    f1Scores = []\n",
    "    sensitivities = []\n",
    "    specificities = []\n",
    "    roc_auc = []\n",
    "    for o in range(10):\n",
    "        predictions = []\n",
    "        for model in best_models:\n",
    "            model.fit(X_train, y_train)\n",
    "            prediction = model.predict(X_test)\n",
    "            predictions.append(prediction)\n",
    "        final_prediction = []\n",
    "        for j in range(len(y_test)):  # run on all rows\n",
    "            one_counter = 0\n",
    "            zero_counter = 0\n",
    "            for t in range(5):  # run on each prediction of each algorithm in specific row\n",
    "                if predictions[t][j] == 1:\n",
    "                    one_counter = one_counter + weights[t] * 1\n",
    "                else:\n",
    "                    zero_counter = zero_counter + weights[t] * 1\n",
    "            if one_counter > zero_counter:\n",
    "                final_prediction.append(1)\n",
    "            else:\n",
    "                final_prediction.append(0)\n",
    "\n",
    "        accuracies.append(accuracy_score(y_test, final_prediction))\n",
    "        f1Scores.append(f1_score(y_test, final_prediction))\n",
    "        tn, fp, fn, tp = confusion_matrix(y_test, final_prediction).ravel()\n",
    "        sensitivities.append(tp / (tp + fn))\n",
    "        specificities.append(tn / (tn + fp))\n",
    "        roc_auc.append(roc_auc_score(y_test, prediction))\n",
    "    models_scores[5]['accuracy'] = (statistics.mean(accuracies), statistics.stdev(accuracies))\n",
    "    models_scores[5]['f1Score'] = (statistics.mean(f1Scores), statistics.stdev(f1Scores))\n",
    "    models_scores[5]['sensitivity'] = (statistics.mean(sensitivities), statistics.stdev(sensitivities))\n",
    "    models_scores[5]['specificity'] = (statistics.mean(specificities), statistics.stdev(specificities))\n",
    "    models_scores[5]['roc_auc'] = (statistics.mean(roc_auc), statistics.stdev(roc_auc))\n",
    "    print(\"Ensemble results: \", models_scores[5])"
   ]
  },
  {
   "cell_type": "code",
   "execution_count": 8,
   "metadata": {
    "colab": {
     "base_uri": "https://localhost:8080/"
    },
    "id": "Cgb0mYz7Y9AU",
    "outputId": "9fcc6e84-27b8-4138-d142-ddbd05f2d5e9"
   },
   "outputs": [
    {
     "name": "stdout",
     "output_type": "stream",
     "text": [
      "Start Pre-processing\n",
      "Done pre-processing\n"
     ]
    }
   ],
   "source": [
    "# pre-process data\n",
    "df = pd.read_csv('../input/dataset/dataset.csv')\n",
    "data_in = pre_processing(df)"
   ]
  },
  {
   "cell_type": "code",
   "execution_count": 9,
   "metadata": {
    "colab": {
     "base_uri": "https://localhost:8080/"
    },
    "id": "d0HDh25iY9AV",
    "outputId": "ae25a7a9-784a-4cfa-d5c8-8f6b4e954d61"
   },
   "outputs": [
    {
     "name": "stdout",
     "output_type": "stream",
     "text": [
      "start evaluation of models using nested cross validatin\n",
      "Start evaluate models using nested cross-validation\n",
      "Evaluate  RandomForestClassifier(bootstrap=True, ccp_alpha=0.0, class_weight=None,\n",
      "                       criterion='gini', max_depth=None, max_features='auto',\n",
      "                       max_leaf_nodes=None, max_samples=None,\n",
      "                       min_impurity_decrease=0.0, min_impurity_split=None,\n",
      "                       min_samples_leaf=1, min_samples_split=2,\n",
      "                       min_weight_fraction_leaf=0.0, n_estimators=100,\n",
      "                       n_jobs=None, oob_score=False, random_state=None,\n",
      "                       verbose=0, warm_start=False)\n",
      "Chosen best model: RandomForestClassifier(bootstrap=True, ccp_alpha=0.0, class_weight=None,\n",
      "                       criterion='gini', max_depth=32, max_features='auto',\n",
      "                       max_leaf_nodes=None, max_samples=None,\n",
      "                       min_impurity_decrease=0.0, min_impurity_split=None,\n",
      "                       min_samples_leaf=1, min_samples_split=2,\n",
      "                       min_weight_fraction_leaf=0.0, n_estimators=55,\n",
      "                       n_jobs=None, oob_score=False, random_state=None,\n",
      "                       verbose=0, warm_start=False)\n",
      "Evaluate  XGBClassifier(base_score=0.5, booster='gbtree', colsample_bylevel=1,\n",
      "              colsample_bynode=1, colsample_bytree=1, gamma=0,\n",
      "              learning_rate=0.1, max_delta_step=0, max_depth=3,\n",
      "              min_child_weight=1, missing=None, n_estimators=100, n_jobs=1,\n",
      "              nthread=None, objective='binary:logistic', random_state=0,\n",
      "              reg_alpha=0, reg_lambda=1, scale_pos_weight=1, seed=None,\n",
      "              silent=None, subsample=1, use_label_encoder=False, verbosity=0)\n",
      "Chosen best model: XGBClassifier(base_score=0.5, booster='gbtree', colsample_bylevel=1,\n",
      "              colsample_bynode=1, colsample_bytree=1, gamma=0,\n",
      "              learning_rate=0.1, max_delta_step=0, max_depth=8,\n",
      "              min_child_weight=1, missing=None, n_estimators=75, n_jobs=1,\n",
      "              nthread=None, objective='binary:logistic', random_state=0,\n",
      "              reg_alpha=0, reg_lambda=1, scale_pos_weight=1, seed=None,\n",
      "              silent=None, subsample=1, use_label_encoder=False, verbosity=0)\n",
      "Evaluate  LogisticRegression(C=1.0, class_weight=None, dual=False, fit_intercept=True,\n",
      "                   intercept_scaling=1, l1_ratio=None, max_iter=100,\n",
      "                   multi_class='auto', n_jobs=None, penalty='l2',\n",
      "                   random_state=None, solver='lbfgs', tol=0.0001, verbose=0,\n",
      "                   warm_start=False)\n",
      "Chosen best model: LogisticRegression(C=1.0, class_weight=None, dual=False, fit_intercept=True,\n",
      "                   intercept_scaling=1, l1_ratio=None, max_iter=100,\n",
      "                   multi_class='auto', n_jobs=None, penalty='l2',\n",
      "                   random_state=None, solver='lbfgs', tol=0.0001, verbose=0,\n",
      "                   warm_start=False)\n",
      "Evaluate  SVC(C=1.0, break_ties=False, cache_size=200, class_weight=None, coef0=0.0,\n",
      "    decision_function_shape='ovr', degree=3, gamma='scale', kernel='rbf',\n",
      "    max_iter=-1, probability=False, random_state=None, shrinking=True,\n",
      "    tol=0.001, verbose=False)\n",
      "Chosen best model: SVC(C=10, break_ties=False, cache_size=200, class_weight=None, coef0=0.0,\n",
      "    decision_function_shape='ovr', degree=3, gamma=0.5, kernel='rbf',\n",
      "    max_iter=-1, probability=False, random_state=None, shrinking=True,\n",
      "    tol=0.001, verbose=False)\n",
      "Evaluate  MLPClassifier(activation='relu', alpha=0.0001, batch_size='auto', beta_1=0.9,\n",
      "              beta_2=0.999, early_stopping=False, epsilon=1e-08,\n",
      "              hidden_layer_sizes=(100,), learning_rate='constant',\n",
      "              learning_rate_init=0.001, max_fun=15000, max_iter=200,\n",
      "              momentum=0.9, n_iter_no_change=10, nesterovs_momentum=True,\n",
      "              power_t=0.5, random_state=None, shuffle=True, solver='adam',\n",
      "              tol=0.0001, validation_fraction=0.1, verbose=False,\n",
      "              warm_start=False)\n",
      "Chosen best model: MLPClassifier(activation='relu', alpha=0.005, batch_size='auto', beta_1=0.9,\n",
      "              beta_2=0.999, early_stopping=False, epsilon=1e-08,\n",
      "              hidden_layer_sizes=(64, 64, 32, 32), learning_rate='adaptive',\n",
      "              learning_rate_init=0.001, max_fun=15000, max_iter=200,\n",
      "              momentum=0.9, n_iter_no_change=10, nesterovs_momentum=True,\n",
      "              power_t=0.5, random_state=None, shuffle=True, solver='adam',\n",
      "              tol=0.0001, validation_fraction=0.1, verbose=False,\n",
      "              warm_start=False)\n"
     ]
    }
   ],
   "source": [
    "# evaluation using nested cross validation for 5 models\n",
    "print(\"start evaluation of models using nested cross validatin\")\n",
    "best_models, model_accuracies = evaluation_models(data_in)"
   ]
  },
  {
   "cell_type": "code",
   "execution_count": 10,
   "metadata": {
    "colab": {
     "base_uri": "https://localhost:8080/"
    },
    "id": "mtylfNMWY9AW",
    "outputId": "b79b5a73-ca7e-4c87-d098-a3b6baad39aa"
   },
   "outputs": [
    {
     "name": "stdout",
     "output_type": "stream",
     "text": [
      "run each chosen model 10 times\n",
      "Run 10 times each model with best params\n",
      "Run model  RandomForestClassifier(bootstrap=True, ccp_alpha=0.0, class_weight=None,\n",
      "                       criterion='gini', max_depth=32, max_features='auto',\n",
      "                       max_leaf_nodes=None, max_samples=None,\n",
      "                       min_impurity_decrease=0.0, min_impurity_split=None,\n",
      "                       min_samples_leaf=1, min_samples_split=2,\n",
      "                       min_weight_fraction_leaf=0.0, n_estimators=55,\n",
      "                       n_jobs=None, oob_score=False, random_state=None,\n",
      "                       verbose=0, warm_start=False)\n",
      "Results for model  RandomForestClassifier(bootstrap=True, ccp_alpha=0.0, class_weight=None,\n",
      "                       criterion='gini', max_depth=32, max_features='auto',\n",
      "                       max_leaf_nodes=None, max_samples=None,\n",
      "                       min_impurity_decrease=0.0, min_impurity_split=None,\n",
      "                       min_samples_leaf=1, min_samples_split=2,\n",
      "                       min_weight_fraction_leaf=0.0, n_estimators=55,\n",
      "                       n_jobs=None, oob_score=False, random_state=None,\n",
      "                       verbose=0, warm_start=False)\n",
      "{'accuracy': (0.8926229508196721, 0.017473526727125138), 'f1Score': (0.5910775612771983, 0.1013672395421711), 'sensitivity': (0.5978350854511845, 0.1266007925491507), 'specificity': (0.9376279673203293, 0.020926952140433653), 'roc_auc': (0.7677315263857569, 0.060453954367729476)}\n",
      "Run model  XGBClassifier(base_score=0.5, booster='gbtree', colsample_bylevel=1,\n",
      "              colsample_bynode=1, colsample_bytree=1, gamma=0,\n",
      "              learning_rate=0.1, max_delta_step=0, max_depth=8,\n",
      "              min_child_weight=1, missing=None, n_estimators=75, n_jobs=1,\n",
      "              nthread=None, objective='binary:logistic', random_state=0,\n",
      "              reg_alpha=0, reg_lambda=1, scale_pos_weight=1, seed=None,\n",
      "              silent=None, subsample=1, use_label_encoder=False, verbosity=0)\n",
      "Results for model  XGBClassifier(base_score=0.5, booster='gbtree', colsample_bylevel=1,\n",
      "              colsample_bynode=1, colsample_bytree=1, gamma=0,\n",
      "              learning_rate=0.1, max_delta_step=0, max_depth=8,\n",
      "              min_child_weight=1, missing=None, n_estimators=75, n_jobs=1,\n",
      "              nthread=None, objective='binary:logistic', random_state=0,\n",
      "              reg_alpha=0, reg_lambda=1, scale_pos_weight=1, seed=None,\n",
      "              silent=None, subsample=1, use_label_encoder=False, verbosity=0)\n",
      "{'accuracy': (0.8745901639344262, 0.0390337626458839), 'f1Score': (0.5829101829101829, 0.10892582032170701), 'sensitivity': (0.6570616883116883, 0.15807902417996686), 'specificity': (0.9108491410241543, 0.024913646089849247), 'roc_auc': (0.7839554146679213, 0.08618471593249954)}\n",
      "Run model  LogisticRegression(C=1.0, class_weight=None, dual=False, fit_intercept=True,\n",
      "                   intercept_scaling=1, l1_ratio=None, max_iter=100,\n",
      "                   multi_class='auto', n_jobs=None, penalty='l2',\n",
      "                   random_state=None, solver='lbfgs', tol=0.0001, verbose=0,\n",
      "                   warm_start=False)\n",
      "Results for model  LogisticRegression(C=1.0, class_weight=None, dual=False, fit_intercept=True,\n",
      "                   intercept_scaling=1, l1_ratio=None, max_iter=100,\n",
      "                   multi_class='auto', n_jobs=None, penalty='l2',\n",
      "                   random_state=None, solver='lbfgs', tol=0.0001, verbose=0,\n",
      "                   warm_start=False)\n",
      "{'accuracy': (0.8098360655737705, 0.030129068310579727), 'f1Score': (0.5079137080784715, 0.041198855069035666), 'sensitivity': (0.7539114385786212, 0.07826574974624917), 'specificity': (0.8173693289911516, 0.036222939658668615), 'roc_auc': (0.7856403837848864, 0.03450607395457866)}\n",
      "Run model  SVC(C=10, break_ties=False, cache_size=200, class_weight=None, coef0=0.0,\n",
      "    decision_function_shape='ovr', degree=3, gamma=0.5, kernel='rbf',\n",
      "    max_iter=-1, probability=False, random_state=None, shrinking=True,\n",
      "    tol=0.001, verbose=False)\n",
      "Results for model  SVC(C=10, break_ties=False, cache_size=200, class_weight=None, coef0=0.0,\n",
      "    decision_function_shape='ovr', degree=3, gamma=0.5, kernel='rbf',\n",
      "    max_iter=-1, probability=False, random_state=None, shrinking=True,\n",
      "    tol=0.001, verbose=False)\n",
      "{'accuracy': (0.8672131147540983, 0.017193587674920508), 'f1Score': (0.09406587547299622, 0.07201462909974729), 'sensitivity': (0.052369281045751635, 0.04112175186406201), 'specificity': (0.9961154273029966, 0.009446648416428935), 'roc_auc': (0.5242423541743741, 0.019024243411808812)}\n",
      "Run model  MLPClassifier(activation='relu', alpha=0.005, batch_size='auto', beta_1=0.9,\n",
      "              beta_2=0.999, early_stopping=False, epsilon=1e-08,\n",
      "              hidden_layer_sizes=(64, 64, 32, 32), learning_rate='adaptive',\n",
      "              learning_rate_init=0.001, max_fun=15000, max_iter=200,\n",
      "              momentum=0.9, n_iter_no_change=10, nesterovs_momentum=True,\n",
      "              power_t=0.5, random_state=None, shuffle=True, solver='adam',\n",
      "              tol=0.0001, validation_fraction=0.1, verbose=False,\n",
      "              warm_start=False)\n",
      "Results for model  MLPClassifier(activation='relu', alpha=0.005, batch_size='auto', beta_1=0.9,\n",
      "              beta_2=0.999, early_stopping=False, epsilon=1e-08,\n",
      "              hidden_layer_sizes=(64, 64, 32, 32), learning_rate='adaptive',\n",
      "              learning_rate_init=0.001, max_fun=15000, max_iter=200,\n",
      "              momentum=0.9, n_iter_no_change=10, nesterovs_momentum=True,\n",
      "              power_t=0.5, random_state=None, shuffle=True, solver='adam',\n",
      "              tol=0.0001, validation_fraction=0.1, verbose=False,\n",
      "              warm_start=False)\n",
      "{'accuracy': (0.860655737704918, 0.032096557717133135), 'f1Score': (0.46920869453127517, 0.15031292643718058), 'sensitivity': (0.4238648084651921, 0.13527489524497235), 'specificity': (0.9368578861108859, 0.025760146810752085), 'roc_auc': (0.680361347288039, 0.07498432683776714)}\n"
     ]
    }
   ],
   "source": [
    "# running 10 times with best hyperparameters\n",
    "models_scores = {}\n",
    "for i in range(6):\n",
    "    models_scores[i] = {}\n",
    "print(\"run each chosen model 10 times\")\n",
    "runWithBestParams(data_in, best_models, model_accuracies, models_scores)"
   ]
  },
  {
   "cell_type": "code",
   "execution_count": 11,
   "metadata": {
    "colab": {
     "base_uri": "https://localhost:8080/"
    },
    "id": "Ul2Xf8mqY9AX",
    "outputId": "566f2af5-deb9-46b0-8035-7f9370947d0d"
   },
   "outputs": [
    {
     "name": "stdout",
     "output_type": "stream",
     "text": [
      "run ensemble 10 times\n",
      "Run ensemble algorithm\n",
      "Ensemble results:  {'accuracy': (0.8967213114754098, 0.005731195891640179), 'f1Score': (0.5737008051273902, 0.028189650096714685), 'sensitivity': (0.5, 0.04159451654038516), 'specificity': (0.960952380952381, 0.0070272836892630855), 'roc_auc': (0.7540056022408963, 0.02506295901047033)}\n"
     ]
    }
   ],
   "source": [
    "print(\"run ensemble 10 times\")\n",
    "runEnsemble(best_models, model_accuracies, data_in, models_scores)"
   ]
  },
  {
   "cell_type": "code",
   "execution_count": 12,
   "metadata": {
    "colab": {
     "base_uri": "https://localhost:8080/"
    },
    "id": "ejphMU2bY9AY",
    "outputId": "5f2fbabb-6cf0-4f56-db7d-8e32491e26ca"
   },
   "outputs": [
    {
     "name": "stdout",
     "output_type": "stream",
     "text": [
      "running new 5 features\n",
      "Start evaluate models using nested cross-validation\n",
      "Evaluate  RandomForestClassifier(bootstrap=True, ccp_alpha=0.0, class_weight=None,\n",
      "                       criterion='gini', max_depth=None, max_features='auto',\n",
      "                       max_leaf_nodes=None, max_samples=None,\n",
      "                       min_impurity_decrease=0.0, min_impurity_split=None,\n",
      "                       min_samples_leaf=1, min_samples_split=2,\n",
      "                       min_weight_fraction_leaf=0.0, n_estimators=100,\n",
      "                       n_jobs=None, oob_score=False, random_state=None,\n",
      "                       verbose=0, warm_start=False)\n",
      "Chosen best model: RandomForestClassifier(bootstrap=True, ccp_alpha=0.0, class_weight=None,\n",
      "                       criterion='gini', max_depth=16, max_features='auto',\n",
      "                       max_leaf_nodes=None, max_samples=None,\n",
      "                       min_impurity_decrease=0.0, min_impurity_split=None,\n",
      "                       min_samples_leaf=1, min_samples_split=2,\n",
      "                       min_weight_fraction_leaf=0.0, n_estimators=100,\n",
      "                       n_jobs=None, oob_score=False, random_state=None,\n",
      "                       verbose=0, warm_start=False)\n",
      "Evaluate  XGBClassifier(base_score=0.5, booster='gbtree', colsample_bylevel=1,\n",
      "              colsample_bynode=1, colsample_bytree=1, gamma=0,\n",
      "              learning_rate=0.1, max_delta_step=0, max_depth=3,\n",
      "              min_child_weight=1, missing=None, n_estimators=100, n_jobs=1,\n",
      "              nthread=None, objective='binary:logistic', random_state=0,\n",
      "              reg_alpha=0, reg_lambda=1, scale_pos_weight=1, seed=None,\n",
      "              silent=None, subsample=1, use_label_encoder=False, verbosity=0)\n",
      "Chosen best model: XGBClassifier(base_score=0.5, booster='gbtree', colsample_bylevel=1,\n",
      "              colsample_bynode=1, colsample_bytree=1, gamma=0,\n",
      "              learning_rate=0.1, max_delta_step=0, max_depth=8,\n",
      "              min_child_weight=1, missing=None, n_estimators=100, n_jobs=1,\n",
      "              nthread=None, objective='binary:logistic', random_state=0,\n",
      "              reg_alpha=0, reg_lambda=1, scale_pos_weight=1, seed=None,\n",
      "              silent=None, subsample=1, use_label_encoder=False, verbosity=0)\n",
      "Evaluate  LogisticRegression(C=1.0, class_weight=None, dual=False, fit_intercept=True,\n",
      "                   intercept_scaling=1, l1_ratio=None, max_iter=100,\n",
      "                   multi_class='auto', n_jobs=None, penalty='l2',\n",
      "                   random_state=None, solver='lbfgs', tol=0.0001, verbose=0,\n",
      "                   warm_start=False)\n",
      "Chosen best model: LogisticRegression(C=1.0, class_weight=None, dual=False, fit_intercept=True,\n",
      "                   intercept_scaling=1, l1_ratio=None, max_iter=100,\n",
      "                   multi_class='auto', n_jobs=None, penalty='l2',\n",
      "                   random_state=None, solver='lbfgs', tol=0.0001, verbose=0,\n",
      "                   warm_start=False)\n",
      "Evaluate  SVC(C=1.0, break_ties=False, cache_size=200, class_weight=None, coef0=0.0,\n",
      "    decision_function_shape='ovr', degree=3, gamma='scale', kernel='rbf',\n",
      "    max_iter=-1, probability=False, random_state=None, shrinking=True,\n",
      "    tol=0.001, verbose=False)\n",
      "Chosen best model: SVC(C=10, break_ties=False, cache_size=200, class_weight=None, coef0=0.0,\n",
      "    decision_function_shape='ovr', degree=3, gamma=0.1, kernel='rbf',\n",
      "    max_iter=-1, probability=False, random_state=None, shrinking=True,\n",
      "    tol=0.001, verbose=False)\n",
      "Evaluate  MLPClassifier(activation='relu', alpha=0.0001, batch_size='auto', beta_1=0.9,\n",
      "              beta_2=0.999, early_stopping=False, epsilon=1e-08,\n",
      "              hidden_layer_sizes=(100,), learning_rate='constant',\n",
      "              learning_rate_init=0.001, max_fun=15000, max_iter=200,\n",
      "              momentum=0.9, n_iter_no_change=10, nesterovs_momentum=True,\n",
      "              power_t=0.5, random_state=None, shuffle=True, solver='adam',\n",
      "              tol=0.0001, validation_fraction=0.1, verbose=False,\n",
      "              warm_start=False)\n",
      "Chosen best model: MLPClassifier(activation='relu', alpha=0.05, batch_size='auto', beta_1=0.9,\n",
      "              beta_2=0.999, early_stopping=False, epsilon=1e-08,\n",
      "              hidden_layer_sizes=(32, 32, 16), learning_rate='adaptive',\n",
      "              learning_rate_init=0.001, max_fun=15000, max_iter=200,\n",
      "              momentum=0.9, n_iter_no_change=10, nesterovs_momentum=True,\n",
      "              power_t=0.5, random_state=None, shuffle=True, solver='adam',\n",
      "              tol=0.0001, validation_fraction=0.1, verbose=False,\n",
      "              warm_start=False)\n",
      "Run 10 times each model with best params\n",
      "Run model  RandomForestClassifier(bootstrap=True, ccp_alpha=0.0, class_weight=None,\n",
      "                       criterion='gini', max_depth=16, max_features='auto',\n",
      "                       max_leaf_nodes=None, max_samples=None,\n",
      "                       min_impurity_decrease=0.0, min_impurity_split=None,\n",
      "                       min_samples_leaf=1, min_samples_split=2,\n",
      "                       min_weight_fraction_leaf=0.0, n_estimators=100,\n",
      "                       n_jobs=None, oob_score=False, random_state=None,\n",
      "                       verbose=0, warm_start=False)\n",
      "Results for model  RandomForestClassifier(bootstrap=True, ccp_alpha=0.0, class_weight=None,\n",
      "                       criterion='gini', max_depth=16, max_features='auto',\n",
      "                       max_leaf_nodes=None, max_samples=None,\n",
      "                       min_impurity_decrease=0.0, min_impurity_split=None,\n",
      "                       min_samples_leaf=1, min_samples_split=2,\n",
      "                       min_weight_fraction_leaf=0.0, n_estimators=100,\n",
      "                       n_jobs=None, oob_score=False, random_state=None,\n",
      "                       verbose=0, warm_start=False)\n",
      "{'accuracy': (0.8745901639344262, 0.028669001944425506), 'f1Score': (0.5203978384488129, 0.12327260651376135), 'sensitivity': (0.4938828075089685, 0.13180552178194374), 'specificity': (0.9360015572616176, 0.02039281808609178), 'roc_auc': (0.7149421823852931, 0.06884985333796541)}\n",
      "Run model  XGBClassifier(base_score=0.5, booster='gbtree', colsample_bylevel=1,\n",
      "              colsample_bynode=1, colsample_bytree=1, gamma=0,\n",
      "              learning_rate=0.1, max_delta_step=0, max_depth=8,\n",
      "              min_child_weight=1, missing=None, n_estimators=100, n_jobs=1,\n",
      "              nthread=None, objective='binary:logistic', random_state=0,\n",
      "              reg_alpha=0, reg_lambda=1, scale_pos_weight=1, seed=None,\n",
      "              silent=None, subsample=1, use_label_encoder=False, verbosity=0)\n",
      "Results for model  XGBClassifier(base_score=0.5, booster='gbtree', colsample_bylevel=1,\n",
      "              colsample_bynode=1, colsample_bytree=1, gamma=0,\n",
      "              learning_rate=0.1, max_delta_step=0, max_depth=8,\n",
      "              min_child_weight=1, missing=None, n_estimators=100, n_jobs=1,\n",
      "              nthread=None, objective='binary:logistic', random_state=0,\n",
      "              reg_alpha=0, reg_lambda=1, scale_pos_weight=1, seed=None,\n",
      "              silent=None, subsample=1, use_label_encoder=False, verbosity=0)\n",
      "{'accuracy': (0.860655737704918, 0.028915314875022836), 'f1Score': (0.5374719657099519, 0.05844937587602202), 'sensitivity': (0.610594756121072, 0.09618440846613523), 'specificity': (0.9012618178982595, 0.02252170911049839), 'roc_auc': (0.7559282870096657, 0.05031098901713005)}\n",
      "Run model  LogisticRegression(C=1.0, class_weight=None, dual=False, fit_intercept=True,\n",
      "                   intercept_scaling=1, l1_ratio=None, max_iter=100,\n",
      "                   multi_class='auto', n_jobs=None, penalty='l2',\n",
      "                   random_state=None, solver='lbfgs', tol=0.0001, verbose=0,\n",
      "                   warm_start=False)\n",
      "Results for model  LogisticRegression(C=1.0, class_weight=None, dual=False, fit_intercept=True,\n",
      "                   intercept_scaling=1, l1_ratio=None, max_iter=100,\n",
      "                   multi_class='auto', n_jobs=None, penalty='l2',\n",
      "                   random_state=None, solver='lbfgs', tol=0.0001, verbose=0,\n",
      "                   warm_start=False)\n",
      "{'accuracy': (0.8065573770491803, 0.039442803131406766), 'f1Score': (0.5146564978030435, 0.1220042925083054), 'sensitivity': (0.7214662497954327, 0.1335867401538754), 'specificity': (0.8189920631840276, 0.04072296334875374), 'roc_auc': (0.7702291564897301, 0.07223527102978718)}\n",
      "Run model  SVC(C=10, break_ties=False, cache_size=200, class_weight=None, coef0=0.0,\n",
      "    decision_function_shape='ovr', degree=3, gamma=0.1, kernel='rbf',\n",
      "    max_iter=-1, probability=False, random_state=None, shrinking=True,\n",
      "    tol=0.001, verbose=False)\n",
      "Results for model  SVC(C=10, break_ties=False, cache_size=200, class_weight=None, coef0=0.0,\n",
      "    decision_function_shape='ovr', degree=3, gamma=0.1, kernel='rbf',\n",
      "    max_iter=-1, probability=False, random_state=None, shrinking=True,\n",
      "    tol=0.001, verbose=False)\n",
      "{'accuracy': (0.8598360655737705, 0.023328277820914272), 'f1Score': (0.2020211607191012, 0.09394210854454078), 'sensitivity': (0.12678522028367228, 0.0633948484188516), 'specificity': (0.9818477295725002, 0.013057045417445023), 'roc_auc': (0.5543164749280862, 0.033198724949415344)}\n",
      "Run model  MLPClassifier(activation='relu', alpha=0.05, batch_size='auto', beta_1=0.9,\n",
      "              beta_2=0.999, early_stopping=False, epsilon=1e-08,\n",
      "              hidden_layer_sizes=(32, 32, 16), learning_rate='adaptive',\n",
      "              learning_rate_init=0.001, max_fun=15000, max_iter=200,\n",
      "              momentum=0.9, n_iter_no_change=10, nesterovs_momentum=True,\n",
      "              power_t=0.5, random_state=None, shuffle=True, solver='adam',\n",
      "              tol=0.0001, validation_fraction=0.1, verbose=False,\n",
      "              warm_start=False)\n",
      "Results for model  MLPClassifier(activation='relu', alpha=0.05, batch_size='auto', beta_1=0.9,\n",
      "              beta_2=0.999, early_stopping=False, epsilon=1e-08,\n",
      "              hidden_layer_sizes=(32, 32, 16), learning_rate='adaptive',\n",
      "              learning_rate_init=0.001, max_fun=15000, max_iter=200,\n",
      "              momentum=0.9, n_iter_no_change=10, nesterovs_momentum=True,\n",
      "              power_t=0.5, random_state=None, shuffle=True, solver='adam',\n",
      "              tol=0.0001, validation_fraction=0.1, verbose=False,\n",
      "              warm_start=False)\n",
      "{'accuracy': (0.8262295081967214, 0.02726770480846917), 'f1Score': (0.3619022933356799, 0.07739260091914803), 'sensitivity': (0.37818786314192826, 0.1383736419317277), 'specificity': (0.9006476013133753, 0.033464545493432994), 'roc_auc': (0.6394177322276517, 0.06092879831511068)}\n",
      "Run ensemble algorithm\n",
      "Ensemble results:  {'accuracy': (0.9040983606557377, 0.007776092606971433), 'f1Score': (0.6003612479474548, 0.035284194108103684), 'sensitivity': (0.5176470588235295, 0.037203266590216236), 'specificity': (0.9666666666666667, 0.0050194883494736), 'roc_auc': (0.7330252100840335, 0.034942709859888385)}\n"
     ]
    }
   ],
   "source": [
    "# feature engineering\n",
    "print(\"running new 5 features\")\n",
    "df_copy = data_in.copy()\n",
    "df_copy = df_copy.reset_index()\n",
    "del df_copy['index']\n",
    "df_copy['hematocrit_redBloodCells_ratio'] = df_copy['Hematocrit']/df_copy['Red blood Cells']\n",
    "# df_copy['Platelets_MPV_difference'] = df_copy['Platelets']- df_copy['Mean platelet volume ']\n",
    "df_copy['Platelets_MPV_difference'] = df_copy['Platelets']/df_copy['Mean platelet volume ']\n",
    "df_copy['Leukocytes_square'] = df_copy[['Leukocytes']].apply(lambda x: x * x)\n",
    "df_copy['MCHC_hemoglobin_ratio'] = df_copy['Mean corpuscular hemoglobin concentration (MCHC)'] / df_copy['Hemoglobin']\n",
    "df_copy['Monocytes_polinom'] = df_copy[['Monocytes']].apply(lambda x: 8 * x * x + 5 * x + 1)\n",
    "# evaluation using nested cross validation for 5 models\n",
    "best_models_new_features, model_accuracies_new_features = evaluation_models(df_copy)\n",
    "# running 10 times with best hyperparameters\n",
    "models_scores_new_features = {}\n",
    "for i in range(6):\n",
    "    models_scores_new_features[i] = {}\n",
    "runWithBestParams(df_copy, best_models_new_features, model_accuracies_new_features, models_scores_new_features)\n",
    "# run ensemble\n",
    "runEnsemble(best_models_new_features, model_accuracies_new_features, data_in, models_scores_new_features)"
   ]
  },
  {
   "cell_type": "code",
   "execution_count": 13,
   "metadata": {
    "id": "CNJI7cb0Y9AZ"
   },
   "outputs": [],
   "source": [
    "def evaluation_CatBoost_and_LightGBM(data_in):\n",
    "    print(\"Evaluate CatBoost and LightGBM\")\n",
    "    data = data_in\n",
    "    y = data[\"SARS-Cov-2 exam result\"].to_numpy()\n",
    "    X = data.drop(\"SARS-Cov-2 exam result\", axis=1).to_numpy()\n",
    "\n",
    "    models_to_run = [CatBoostClassifier(silent=True), lgb.LGBMClassifier()]\n",
    "    models_param_grid = [\n",
    "        {\n",
    "\n",
    "        },\n",
    "        {\n",
    "\n",
    "        }\n",
    "    ]\n",
    "    best_models = []\n",
    "    model_accuracies = []\n",
    "    for i, model in enumerate(models_to_run):\n",
    "        print(\"Evaluate model \", model)\n",
    "        # configure the cross-validation procedure\n",
    "        cv_outer = KFold(n_splits=5, shuffle=True, random_state=1)\n",
    "        # enumerate splits\n",
    "        outer_results = list()\n",
    "        accuracies = list()\n",
    "        for train_ix, test_ix in cv_outer.split(X):\n",
    "            # split data\n",
    "            X_train, X_test = X[train_ix], X[test_ix]\n",
    "            y_train, y_test = y[train_ix], y[test_ix]\n",
    "            imp = IterativeImputer()\n",
    "            X_train = imp.fit_transform(X_train)\n",
    "            X_test = imp.transform(X_test)\n",
    "            # using SMOTE\n",
    "            smote = SVMSMOTE(random_state=101, k_neighbors=5)\n",
    "            X_train, y_train = smote.fit_resample(X_train, y_train)\n",
    "            # configure the cross-validation procedure\n",
    "            cv_inner = KFold(n_splits=5, shuffle=True, random_state=1)\n",
    "            # define search\n",
    "            search = GridSearchCV(models_to_run[i], models_param_grid[i], scoring='f1', cv=cv_inner, refit=True)\n",
    "            # execute search\n",
    "            result = search.fit(X_train, y_train)\n",
    "            # get the best performing model fit on the whole training set\n",
    "            best_model = result.best_estimator_\n",
    "            # evaluate model on the hold out dataset\n",
    "            yhat = best_model.predict(X_test)\n",
    "            # evaluate the model\n",
    "            accuracy = accuracy_score(y_test, yhat)\n",
    "            accuracies.append(accuracy)\n",
    "            # save a tuple for each running - the model and it's accuracy\n",
    "            tuple_to_add = (accuracy, best_model)\n",
    "            # store the result\n",
    "            outer_results.append(tuple_to_add)\n",
    "        model_accuracies.append(np.mean(accuracies))\n",
    "        # check what model brings the best accuracy\n",
    "        max_accuracy = 0\n",
    "        for tup in outer_results:\n",
    "            if tup[0] > max_accuracy:\n",
    "                best_model_CatBoost_and_LightGBM = tup[1]\n",
    "                max_accuracy = tup[0]\n",
    "        # save the best model\n",
    "        # the i place in the array represent the i model as declared before\n",
    "        best_models.append(best_model_CatBoost_and_LightGBM)\n",
    "        print(\"Chosen model: \", best_model_CatBoost_and_LightGBM)\n",
    "\n",
    "    return best_models"
   ]
  },
  {
   "cell_type": "code",
   "execution_count": 14,
   "metadata": {
    "id": "cRVNUCVcY9AZ"
   },
   "outputs": [],
   "source": [
    "def runWithBestParams_CatBoost_and_LightGBM(data_in, best_Models, models_scores):\n",
    "    data = data_in\n",
    "    y = data[\"SARS-Cov-2 exam result\"]\n",
    "    X = data.drop(\"SARS-Cov-2 exam result\", axis=1).to_numpy()\n",
    "    print(\"Run 10 times each model with best params\")\n",
    "    # run for each algorithm 10 times, each time with different 80% of training set\n",
    "    for index, model in enumerate(best_Models):\n",
    "        accuracies = []\n",
    "        f1Scores = []\n",
    "        sensitivities = []\n",
    "        specificities = []\n",
    "        roc_auc = []\n",
    "        for k in range(10):\n",
    "            X_train, X_test, y_train, y_test = train_test_split(X, y, test_size=0.2)\n",
    "            imp = IterativeImputer()\n",
    "            X_train = imp.fit_transform(X_train)\n",
    "            X_test = imp.transform(X_test)\n",
    "            smote = SVMSMOTE(random_state=101, k_neighbors=5)\n",
    "            X_train, y_train = smote.fit_resample(X_train, y_train)\n",
    "            model.fit(X_train, y_train)\n",
    "            prediction = model.predict(X_test)\n",
    "            accuracies.append(accuracy_score(y_test, prediction))\n",
    "            f1Scores.append(f1_score(y_test, prediction))\n",
    "            tn, fp, fn, tp = confusion_matrix(y_test, prediction).ravel()\n",
    "            sensitivities.append(tp / (tp + fn))\n",
    "            specificities.append(tn / (tn + fp))\n",
    "            roc_auc.append(roc_auc_score(y_test, prediction))\n",
    "\n",
    "        models_scores[index]['accuracy'] = (statistics.mean(accuracies), statistics.stdev(accuracies))\n",
    "        models_scores[index]['f1Score'] = (statistics.mean(f1Scores), statistics.stdev(f1Scores))\n",
    "        models_scores[index]['sensitivity'] = (statistics.mean(sensitivities), statistics.stdev(sensitivities))\n",
    "        models_scores[index]['specificity'] = (statistics.mean(specificities), statistics.stdev(specificities))\n",
    "        models_scores[index]['roc_auc'] = (statistics.mean(roc_auc), statistics.stdev(roc_auc))\n",
    "        print(\"Results For model \", model)\n",
    "        print(models_scores[index])"
   ]
  },
  {
   "cell_type": "code",
   "execution_count": 15,
   "metadata": {
    "colab": {
     "base_uri": "https://localhost:8080/"
    },
    "id": "p0mRprlCY9Aa",
    "outputId": "2915aad5-59f3-44fe-f0d0-9e6239af602d"
   },
   "outputs": [
    {
     "name": "stdout",
     "output_type": "stream",
     "text": [
      "running CatBoost and LightGBM using nested cross-validation\n",
      "Evaluate CatBoost and LightGBM\n",
      "Evaluate model  <catboost.core.CatBoostClassifier object at 0x7fd9b9aba610>\n",
      "Chosen model:  <catboost.core.CatBoostClassifier object at 0x7fd9b9abe290>\n",
      "Evaluate model  LGBMClassifier(boosting_type='gbdt', class_weight=None, colsample_bytree=1.0,\n",
      "               importance_type='split', learning_rate=0.1, max_depth=-1,\n",
      "               min_child_samples=20, min_child_weight=0.001, min_split_gain=0.0,\n",
      "               n_estimators=100, n_jobs=-1, num_leaves=31, objective=None,\n",
      "               random_state=None, reg_alpha=0.0, reg_lambda=0.0, silent=True,\n",
      "               subsample=1.0, subsample_for_bin=200000, subsample_freq=0)\n",
      "Chosen model:  LGBMClassifier(boosting_type='gbdt', class_weight=None, colsample_bytree=1.0,\n",
      "               importance_type='split', learning_rate=0.1, max_depth=-1,\n",
      "               min_child_samples=20, min_child_weight=0.001, min_split_gain=0.0,\n",
      "               n_estimators=100, n_jobs=-1, num_leaves=31, objective=None,\n",
      "               random_state=None, reg_alpha=0.0, reg_lambda=0.0, silent=True,\n",
      "               subsample=1.0, subsample_for_bin=200000, subsample_freq=0)\n"
     ]
    }
   ],
   "source": [
    "# run CatBoost and LightGBM\n",
    "# evaluation using nested cross validation for 2 models\n",
    "print(\"running CatBoost and LightGBM using nested cross-validation\")\n",
    "best_models_CatBoost_and_LightGBM = evaluation_CatBoost_and_LightGBM(data_in)"
   ]
  },
  {
   "cell_type": "code",
   "execution_count": 16,
   "metadata": {
    "colab": {
     "base_uri": "https://localhost:8080/"
    },
    "id": "AfG0-rcwY9Ab",
    "outputId": "e3d02919-72d7-4fbd-c52e-c8714bbe5403"
   },
   "outputs": [
    {
     "name": "stdout",
     "output_type": "stream",
     "text": [
      "running 10 times CatBoost and LightGBM\n",
      "Run 10 times each model with best params\n",
      "Results For model  <catboost.core.CatBoostClassifier object at 0x7fd9b9abe290>\n",
      "{'accuracy': (0.8737704918032787, 0.03481864988431474), 'f1Score': (0.5676747855120927, 0.07750162809609332), 'sensitivity': (0.6154826515933327, 0.07761204593364948), 'specificity': (0.9144225376371863, 0.02947161212201625), 'roc_auc': (0.7649525946152596, 0.04619007702104733)}\n",
      "Results For model  LGBMClassifier(boosting_type='gbdt', class_weight=None, colsample_bytree=1.0,\n",
      "               importance_type='split', learning_rate=0.1, max_depth=-1,\n",
      "               min_child_samples=20, min_child_weight=0.001, min_split_gain=0.0,\n",
      "               n_estimators=100, n_jobs=-1, num_leaves=31, objective=None,\n",
      "               random_state=None, reg_alpha=0.0, reg_lambda=0.0, silent=True,\n",
      "               subsample=1.0, subsample_for_bin=200000, subsample_freq=0)\n",
      "{'accuracy': (0.8836065573770492, 0.01535898286618056), 'f1Score': (0.6019935092060639, 0.07622469680273522), 'sensitivity': (0.588497749166076, 0.11534802023284149), 'specificity': (0.938105810697766, 0.01664161264993315), 'roc_auc': (0.7633017799319209, 0.05301156175180338)}\n"
     ]
    }
   ],
   "source": [
    "# running 10 times with best hyperparameters\n",
    "print(\"running 10 times CatBoost and LightGBM\")\n",
    "models_scores_CatBoost_and_LightGBM = {}\n",
    "for i in range(2):\n",
    "    models_scores_CatBoost_and_LightGBM[i] = {}\n",
    "runWithBestParams_CatBoost_and_LightGBM(data_in, best_models_CatBoost_and_LightGBM, models_scores_CatBoost_and_LightGBM)\n"
   ]
  },
  {
   "cell_type": "markdown",
   "metadata": {
    "id": "C00HcR0PY9Ab"
   },
   "source": [
    "**Question 6**"
   ]
  },
  {
   "cell_type": "code",
   "execution_count": 17,
   "metadata": {
    "colab": {
     "base_uri": "https://localhost:8080/",
     "height": 850
    },
    "id": "V6lOuakXY9Ac",
    "outputId": "9c5b2e12-1f6a-4cd8-a8f7-e6f3bd009198"
   },
   "outputs": [
    {
     "name": "stdout",
     "output_type": "stream",
     "text": [
      "      SARS-Cov-2 exam result  Hematocrit  ...     Potassium        Sodium\n",
      "1                          0    0.236515  ... -3.057871e-01  8.625116e-01\n",
      "8                          0   -1.571682  ...  9.300203e-01  5.031317e-01\n",
      "15                         0   -0.747693  ...  4.356966e-01 -2.156279e-01\n",
      "18                         0    0.991838  ...  2.053100e-08  1.105946e-08\n",
      "22                         0    0.190738  ... -5.529490e-01 -5.750077e-01\n",
      "...                      ...         ...  ...           ...           ...\n",
      "5602                       0    0.190738  ...  1.885353e-01 -5.246946e+00\n",
      "5614                       0   -0.289922  ... -5.529490e-01 -2.156279e-01\n",
      "5615                       0    0.717175  ...  4.356966e-01  1.437519e-01\n",
      "5618                       0   -3.242548  ... -3.057871e-01 -1.293767e+00\n",
      "5643                       1    0.694287  ... -5.529490e-01 -9.343876e-01\n",
      "\n",
      "[608 rows x 21 columns]\n"
     ]
    },
    {
     "data": {
      "text/html": [
       "<div>\n",
       "<style scoped>\n",
       "    .dataframe tbody tr th:only-of-type {\n",
       "        vertical-align: middle;\n",
       "    }\n",
       "\n",
       "    .dataframe tbody tr th {\n",
       "        vertical-align: top;\n",
       "    }\n",
       "\n",
       "    .dataframe thead th {\n",
       "        text-align: right;\n",
       "    }\n",
       "</style>\n",
       "<table border=\"1\" class=\"dataframe\">\n",
       "  <thead>\n",
       "    <tr style=\"text-align: right;\">\n",
       "      <th></th>\n",
       "      <th>SARS-Cov-2 exam result</th>\n",
       "      <th>Hematocrit</th>\n",
       "      <th>Hemoglobin</th>\n",
       "      <th>Platelets</th>\n",
       "      <th>Mean platelet volume</th>\n",
       "      <th>Red blood Cells</th>\n",
       "      <th>Lymphocytes</th>\n",
       "      <th>Mean corpuscular hemoglobin concentration (MCHC)</th>\n",
       "      <th>Leukocytes</th>\n",
       "      <th>Basophils</th>\n",
       "      <th>Mean corpuscular hemoglobin (MCH)</th>\n",
       "      <th>Eosinophils</th>\n",
       "      <th>Mean corpuscular volume (MCV)</th>\n",
       "      <th>Monocytes</th>\n",
       "      <th>Red blood cell distribution width (RDW)</th>\n",
       "      <th>Neutrophils</th>\n",
       "      <th>Urea</th>\n",
       "      <th>Proteina C reativa mg/dL</th>\n",
       "      <th>Creatinine</th>\n",
       "      <th>Potassium</th>\n",
       "      <th>Sodium</th>\n",
       "    </tr>\n",
       "  </thead>\n",
       "  <tbody>\n",
       "    <tr>\n",
       "      <th>1</th>\n",
       "      <td>0</td>\n",
       "      <td>0.236515</td>\n",
       "      <td>-0.022340</td>\n",
       "      <td>-0.517413</td>\n",
       "      <td>0.010677</td>\n",
       "      <td>0.102004</td>\n",
       "      <td>0.318366</td>\n",
       "      <td>-0.950790</td>\n",
       "      <td>-0.094610</td>\n",
       "      <td>-0.223767</td>\n",
       "      <td>-0.292269</td>\n",
       "      <td>1.482158</td>\n",
       "      <td>0.166192</td>\n",
       "      <td>0.357547</td>\n",
       "      <td>-0.625073</td>\n",
       "      <td>-0.619086</td>\n",
       "      <td>1.198059e+00</td>\n",
       "      <td>-1.478949e-01</td>\n",
       "      <td>2.089928e+00</td>\n",
       "      <td>-3.057871e-01</td>\n",
       "      <td>8.625116e-01</td>\n",
       "    </tr>\n",
       "    <tr>\n",
       "      <th>8</th>\n",
       "      <td>0</td>\n",
       "      <td>-1.571682</td>\n",
       "      <td>-0.774212</td>\n",
       "      <td>1.429667</td>\n",
       "      <td>-1.672222</td>\n",
       "      <td>-0.850035</td>\n",
       "      <td>-0.005738</td>\n",
       "      <td>3.331071</td>\n",
       "      <td>0.364550</td>\n",
       "      <td>-0.223767</td>\n",
       "      <td>0.178175</td>\n",
       "      <td>1.018625</td>\n",
       "      <td>-1.336024</td>\n",
       "      <td>0.068652</td>\n",
       "      <td>-0.978899</td>\n",
       "      <td>-0.127395</td>\n",
       "      <td>-6.730879e-02</td>\n",
       "      <td>-2.869858e-01</td>\n",
       "      <td>-1.838623e+00</td>\n",
       "      <td>9.300203e-01</td>\n",
       "      <td>5.031317e-01</td>\n",
       "    </tr>\n",
       "    <tr>\n",
       "      <th>15</th>\n",
       "      <td>0</td>\n",
       "      <td>-0.747693</td>\n",
       "      <td>-0.586244</td>\n",
       "      <td>-0.429480</td>\n",
       "      <td>-0.213711</td>\n",
       "      <td>-1.361315</td>\n",
       "      <td>-1.114514</td>\n",
       "      <td>0.542882</td>\n",
       "      <td>-0.884923</td>\n",
       "      <td>0.081693</td>\n",
       "      <td>1.746323</td>\n",
       "      <td>-0.666950</td>\n",
       "      <td>1.668409</td>\n",
       "      <td>1.276759</td>\n",
       "      <td>-1.067355</td>\n",
       "      <td>0.880570</td>\n",
       "      <td>-8.116428e-01</td>\n",
       "      <td>2.760870e-09</td>\n",
       "      <td>-9.081768e-01</td>\n",
       "      <td>4.356966e-01</td>\n",
       "      <td>-2.156279e-01</td>\n",
       "    </tr>\n",
       "    <tr>\n",
       "      <th>18</th>\n",
       "      <td>0</td>\n",
       "      <td>0.991838</td>\n",
       "      <td>0.792188</td>\n",
       "      <td>0.072992</td>\n",
       "      <td>-0.550290</td>\n",
       "      <td>0.542763</td>\n",
       "      <td>0.045436</td>\n",
       "      <td>-0.452899</td>\n",
       "      <td>-0.211488</td>\n",
       "      <td>-0.834685</td>\n",
       "      <td>0.334989</td>\n",
       "      <td>-0.709090</td>\n",
       "      <td>0.606842</td>\n",
       "      <td>-0.220244</td>\n",
       "      <td>0.171035</td>\n",
       "      <td>0.265957</td>\n",
       "      <td>-6.707809e-09</td>\n",
       "      <td>-4.876739e-01</td>\n",
       "      <td>-6.669811e-09</td>\n",
       "      <td>2.053100e-08</td>\n",
       "      <td>1.105946e-08</td>\n",
       "    </tr>\n",
       "    <tr>\n",
       "      <th>22</th>\n",
       "      <td>0</td>\n",
       "      <td>0.190738</td>\n",
       "      <td>-0.147652</td>\n",
       "      <td>-0.668155</td>\n",
       "      <td>1.020415</td>\n",
       "      <td>-0.127191</td>\n",
       "      <td>0.002791</td>\n",
       "      <td>-1.249524</td>\n",
       "      <td>-1.132592</td>\n",
       "      <td>0.387152</td>\n",
       "      <td>-0.083183</td>\n",
       "      <td>-0.709090</td>\n",
       "      <td>0.566783</td>\n",
       "      <td>2.012129</td>\n",
       "      <td>0.613318</td>\n",
       "      <td>-0.422410</td>\n",
       "      <td>-1.332677e+00</td>\n",
       "      <td>2.760870e-09</td>\n",
       "      <td>-9.081768e-01</td>\n",
       "      <td>-5.529490e-01</td>\n",
       "      <td>-5.750077e-01</td>\n",
       "    </tr>\n",
       "    <tr>\n",
       "      <th>...</th>\n",
       "      <td>...</td>\n",
       "      <td>...</td>\n",
       "      <td>...</td>\n",
       "      <td>...</td>\n",
       "      <td>...</td>\n",
       "      <td>...</td>\n",
       "      <td>...</td>\n",
       "      <td>...</td>\n",
       "      <td>...</td>\n",
       "      <td>...</td>\n",
       "      <td>...</td>\n",
       "      <td>...</td>\n",
       "      <td>...</td>\n",
       "      <td>...</td>\n",
       "      <td>...</td>\n",
       "      <td>...</td>\n",
       "      <td>...</td>\n",
       "      <td>...</td>\n",
       "      <td>...</td>\n",
       "      <td>...</td>\n",
       "      <td>...</td>\n",
       "    </tr>\n",
       "    <tr>\n",
       "      <th>5602</th>\n",
       "      <td>0</td>\n",
       "      <td>0.190738</td>\n",
       "      <td>0.165628</td>\n",
       "      <td>-0.102873</td>\n",
       "      <td>0.908221</td>\n",
       "      <td>0.384090</td>\n",
       "      <td>-1.583611</td>\n",
       "      <td>-0.054585</td>\n",
       "      <td>-0.328365</td>\n",
       "      <td>-0.834685</td>\n",
       "      <td>-0.449085</td>\n",
       "      <td>0.892207</td>\n",
       "      <td>-0.474754</td>\n",
       "      <td>1.066653</td>\n",
       "      <td>0.347948</td>\n",
       "      <td>1.118221</td>\n",
       "      <td>3.792916e-01</td>\n",
       "      <td>3.627427e+00</td>\n",
       "      <td>4.702622e-01</td>\n",
       "      <td>1.885353e-01</td>\n",
       "      <td>-5.246946e+00</td>\n",
       "    </tr>\n",
       "    <tr>\n",
       "      <th>5614</th>\n",
       "      <td>0</td>\n",
       "      <td>-0.289922</td>\n",
       "      <td>-0.523588</td>\n",
       "      <td>0.663397</td>\n",
       "      <td>-0.774677</td>\n",
       "      <td>0.754327</td>\n",
       "      <td>-1.532437</td>\n",
       "      <td>-1.050367</td>\n",
       "      <td>1.569499</td>\n",
       "      <td>0.081693</td>\n",
       "      <td>-2.174047</td>\n",
       "      <td>-0.540532</td>\n",
       "      <td>-1.976971</td>\n",
       "      <td>1.670707</td>\n",
       "      <td>0.967144</td>\n",
       "      <td>1.134611</td>\n",
       "      <td>-6.730879e-02</td>\n",
       "      <td>5.733660e+00</td>\n",
       "      <td>5.047231e-01</td>\n",
       "      <td>-5.529490e-01</td>\n",
       "      <td>-2.156279e-01</td>\n",
       "    </tr>\n",
       "    <tr>\n",
       "      <th>5615</th>\n",
       "      <td>0</td>\n",
       "      <td>0.717175</td>\n",
       "      <td>1.105468</td>\n",
       "      <td>-0.492289</td>\n",
       "      <td>-0.213711</td>\n",
       "      <td>0.613284</td>\n",
       "      <td>0.002791</td>\n",
       "      <td>1.538664</td>\n",
       "      <td>-0.550988</td>\n",
       "      <td>-0.223767</td>\n",
       "      <td>0.700891</td>\n",
       "      <td>-0.709090</td>\n",
       "      <td>0.005955</td>\n",
       "      <td>0.909074</td>\n",
       "      <td>-1.155812</td>\n",
       "      <td>-0.061837</td>\n",
       "      <td>-3.650424e-01</td>\n",
       "      <td>5.614683e-01</td>\n",
       "      <td>-4.946450e-01</td>\n",
       "      <td>4.356966e-01</td>\n",
       "      <td>1.437519e-01</td>\n",
       "    </tr>\n",
       "    <tr>\n",
       "      <th>5618</th>\n",
       "      <td>0</td>\n",
       "      <td>-3.242548</td>\n",
       "      <td>-2.779203</td>\n",
       "      <td>-1.773594</td>\n",
       "      <td>-0.550290</td>\n",
       "      <td>-3.318285</td>\n",
       "      <td>-1.830953</td>\n",
       "      <td>1.538664</td>\n",
       "      <td>-1.733675</td>\n",
       "      <td>-1.140144</td>\n",
       "      <td>2.059952</td>\n",
       "      <td>-0.582671</td>\n",
       "      <td>1.408024</td>\n",
       "      <td>1.381812</td>\n",
       "      <td>-0.448160</td>\n",
       "      <td>1.552548</td>\n",
       "      <td>2.240127e+00</td>\n",
       "      <td>6.091566e-01</td>\n",
       "      <td>4.702622e-01</td>\n",
       "      <td>-3.057871e-01</td>\n",
       "      <td>-1.293767e+00</td>\n",
       "    </tr>\n",
       "    <tr>\n",
       "      <th>5643</th>\n",
       "      <td>1</td>\n",
       "      <td>0.694287</td>\n",
       "      <td>0.541564</td>\n",
       "      <td>-0.906829</td>\n",
       "      <td>-0.325903</td>\n",
       "      <td>0.578024</td>\n",
       "      <td>-0.295726</td>\n",
       "      <td>-0.353319</td>\n",
       "      <td>-1.288428</td>\n",
       "      <td>-1.140144</td>\n",
       "      <td>-0.135455</td>\n",
       "      <td>-0.835508</td>\n",
       "      <td>0.025985</td>\n",
       "      <td>0.567652</td>\n",
       "      <td>-0.182790</td>\n",
       "      <td>0.380685</td>\n",
       "      <td>4.537250e-01</td>\n",
       "      <td>-5.035700e-01</td>\n",
       "      <td>-7.358719e-01</td>\n",
       "      <td>-5.529490e-01</td>\n",
       "      <td>-9.343876e-01</td>\n",
       "    </tr>\n",
       "  </tbody>\n",
       "</table>\n",
       "<p>608 rows × 21 columns</p>\n",
       "</div>"
      ],
      "text/plain": [
       "      SARS-Cov-2 exam result  Hematocrit  ...     Potassium        Sodium\n",
       "1                          0    0.236515  ... -3.057871e-01  8.625116e-01\n",
       "8                          0   -1.571682  ...  9.300203e-01  5.031317e-01\n",
       "15                         0   -0.747693  ...  4.356966e-01 -2.156279e-01\n",
       "18                         0    0.991838  ...  2.053100e-08  1.105946e-08\n",
       "22                         0    0.190738  ... -5.529490e-01 -5.750077e-01\n",
       "...                      ...         ...  ...           ...           ...\n",
       "5602                       0    0.190738  ...  1.885353e-01 -5.246946e+00\n",
       "5614                       0   -0.289922  ... -5.529490e-01 -2.156279e-01\n",
       "5615                       0    0.717175  ...  4.356966e-01  1.437519e-01\n",
       "5618                       0   -3.242548  ... -3.057871e-01 -1.293767e+00\n",
       "5643                       1    0.694287  ... -5.529490e-01 -9.343876e-01\n",
       "\n",
       "[608 rows x 21 columns]"
      ]
     },
     "execution_count": 17,
     "metadata": {
      "tags": []
     },
     "output_type": "execute_result"
    }
   ],
   "source": [
    "data_witout_null = data_in\n",
    "data_witout_null = fill_missing_values(data_witout_null)\n",
    "data_witout_null"
   ]
  },
  {
   "cell_type": "code",
   "execution_count": 18,
   "metadata": {
    "id": "37HvXaSPY9Ac"
   },
   "outputs": [],
   "source": [
    "import pandas as pd\n",
    "import numpy as np\n",
    "np.random.seed(0)\n",
    "import matplotlib.pyplot as plt\n",
    "df = data_witout_null\n",
    "from sklearn.model_selection import train_test_split\n",
    "from sklearn import preprocessing\n",
    "from sklearn.ensemble import RandomForestRegressor\n",
    "# The target variable is '\"SARS-Cov-2 exam result\"'.\n",
    "\n",
    "Y = df[\"SARS-Cov-2 exam result\"]\n",
    "X =  df[['Hematocrit', 'Hemoglobin', 'Platelets', 'Mean platelet volume ', 'Red blood Cells',\n",
    "         'Lymphocytes', 'Mean corpuscular hemoglobin concentration (MCHC)', 'Leukocytes',  \n",
    "         'Basophils', 'Mean corpuscular hemoglobin (MCH)', 'Eosinophils',\n",
    "       'Mean corpuscular volume (MCV)', 'Monocytes',       'Red blood cell distribution width (RDW)',\n",
    "        'Neutrophils', 'Urea',       'Proteina C reativa mg/dL', 'Creatinine', 'Potassium', 'Sodium']]\n",
    "# Split the data into train and test data:\n",
    "X_train, X_test, Y_train, Y_test = train_test_split(X, Y, test_size = 0.2)"
   ]
  },
  {
   "cell_type": "code",
   "execution_count": 19,
   "metadata": {
    "colab": {
     "base_uri": "https://localhost:8080/"
    },
    "id": "aYrJ9hifY9Ad",
    "outputId": "017e3f5e-0f63-48fe-bdcc-a36ca0443ca2"
   },
   "outputs": [
    {
     "name": "stdout",
     "output_type": "stream",
     "text": [
      "Collecting shap==0.36.0\n",
      "\u001b[?25l  Downloading https://files.pythonhosted.org/packages/d2/17/37ee6c79cafbd9bb7423b54e55ea90beec66aa7638664d607bcc28de0bae/shap-0.36.0.tar.gz (319kB)\n",
      "\r",
      "\u001b[K     |█                               | 10kB 24.4MB/s eta 0:00:01\r",
      "\u001b[K     |██                              | 20kB 31.3MB/s eta 0:00:01\r",
      "\u001b[K     |███                             | 30kB 20.8MB/s eta 0:00:01\r",
      "\u001b[K     |████                            | 40kB 24.5MB/s eta 0:00:01\r",
      "\u001b[K     |█████▏                          | 51kB 26.0MB/s eta 0:00:01\r",
      "\u001b[K     |██████▏                         | 61kB 28.7MB/s eta 0:00:01\r",
      "\u001b[K     |███████▏                        | 71kB 22.2MB/s eta 0:00:01\r",
      "\u001b[K     |████████▏                       | 81kB 23.6MB/s eta 0:00:01\r",
      "\u001b[K     |█████████▏                      | 92kB 21.4MB/s eta 0:00:01\r",
      "\u001b[K     |██████████▎                     | 102kB 21.3MB/s eta 0:00:01\r",
      "\u001b[K     |███████████▎                    | 112kB 21.3MB/s eta 0:00:01\r",
      "\u001b[K     |████████████▎                   | 122kB 21.3MB/s eta 0:00:01\r",
      "\u001b[K     |█████████████▎                  | 133kB 21.3MB/s eta 0:00:01\r",
      "\u001b[K     |██████████████▍                 | 143kB 21.3MB/s eta 0:00:01\r",
      "\u001b[K     |███████████████▍                | 153kB 21.3MB/s eta 0:00:01\r",
      "\u001b[K     |████████████████▍               | 163kB 21.3MB/s eta 0:00:01\r",
      "\u001b[K     |█████████████████▍              | 174kB 21.3MB/s eta 0:00:01\r",
      "\u001b[K     |██████████████████▍             | 184kB 21.3MB/s eta 0:00:01\r",
      "\u001b[K     |███████████████████▌            | 194kB 21.3MB/s eta 0:00:01\r",
      "\u001b[K     |████████████████████▌           | 204kB 21.3MB/s eta 0:00:01\r",
      "\u001b[K     |█████████████████████▌          | 215kB 21.3MB/s eta 0:00:01\r",
      "\u001b[K     |██████████████████████▌         | 225kB 21.3MB/s eta 0:00:01\r",
      "\u001b[K     |███████████████████████▋        | 235kB 21.3MB/s eta 0:00:01\r",
      "\u001b[K     |████████████████████████▋       | 245kB 21.3MB/s eta 0:00:01\r",
      "\u001b[K     |█████████████████████████▋      | 256kB 21.3MB/s eta 0:00:01\r",
      "\u001b[K     |██████████████████████████▋     | 266kB 21.3MB/s eta 0:00:01\r",
      "\u001b[K     |███████████████████████████▋    | 276kB 21.3MB/s eta 0:00:01\r",
      "\u001b[K     |████████████████████████████▊   | 286kB 21.3MB/s eta 0:00:01\r",
      "\u001b[K     |█████████████████████████████▊  | 296kB 21.3MB/s eta 0:00:01\r",
      "\u001b[K     |██████████████████████████████▊ | 307kB 21.3MB/s eta 0:00:01\r",
      "\u001b[K     |███████████████████████████████▊| 317kB 21.3MB/s eta 0:00:01\r",
      "\u001b[K     |████████████████████████████████| 327kB 21.3MB/s \n",
      "\u001b[?25hRequirement already satisfied: numpy in /usr/local/lib/python3.7/dist-packages (from shap==0.36.0) (1.19.5)\n",
      "Requirement already satisfied: scipy in /usr/local/lib/python3.7/dist-packages (from shap==0.36.0) (1.4.1)\n",
      "Requirement already satisfied: scikit-learn in /usr/local/lib/python3.7/dist-packages (from shap==0.36.0) (0.22.2.post1)\n",
      "Requirement already satisfied: pandas in /usr/local/lib/python3.7/dist-packages (from shap==0.36.0) (1.1.5)\n",
      "Requirement already satisfied: tqdm>4.25.0 in /usr/local/lib/python3.7/dist-packages (from shap==0.36.0) (4.41.1)\n",
      "Collecting slicer\n",
      "  Downloading https://files.pythonhosted.org/packages/78/c2/b3f55dfdb8af9812fdb9baf70cacf3b9e82e505b2bd4324d588888b81202/slicer-0.0.7-py3-none-any.whl\n",
      "Requirement already satisfied: numba in /usr/local/lib/python3.7/dist-packages (from shap==0.36.0) (0.51.2)\n",
      "Requirement already satisfied: joblib>=0.11 in /usr/local/lib/python3.7/dist-packages (from scikit-learn->shap==0.36.0) (1.0.1)\n",
      "Requirement already satisfied: python-dateutil>=2.7.3 in /usr/local/lib/python3.7/dist-packages (from pandas->shap==0.36.0) (2.8.1)\n",
      "Requirement already satisfied: pytz>=2017.2 in /usr/local/lib/python3.7/dist-packages (from pandas->shap==0.36.0) (2018.9)\n",
      "Requirement already satisfied: llvmlite<0.35,>=0.34.0.dev0 in /usr/local/lib/python3.7/dist-packages (from numba->shap==0.36.0) (0.34.0)\n",
      "Requirement already satisfied: setuptools in /usr/local/lib/python3.7/dist-packages (from numba->shap==0.36.0) (56.0.0)\n",
      "Requirement already satisfied: six>=1.5 in /usr/local/lib/python3.7/dist-packages (from python-dateutil>=2.7.3->pandas->shap==0.36.0) (1.15.0)\n",
      "Building wheels for collected packages: shap\n",
      "  Building wheel for shap (setup.py) ... \u001b[?25l\u001b[?25hdone\n",
      "  Created wheel for shap: filename=shap-0.36.0-cp37-cp37m-linux_x86_64.whl size=457588 sha256=164d9e27c71cf6063ae075eef97a0490bd5cb4ce6314833e9d1bc5849a7ed6b8\n",
      "  Stored in directory: /root/.cache/pip/wheels/fb/15/e1/8f61106790da27e0765aaa6e664550ca2c50ea339099e799f4\n",
      "Successfully built shap\n",
      "Installing collected packages: slicer, shap\n",
      "Successfully installed shap-0.36.0 slicer-0.0.7\n"
     ]
    }
   ],
   "source": [
    "!pip install shap==0.36.0 "
   ]
  },
  {
   "cell_type": "code",
   "execution_count": 20,
   "metadata": {
    "id": "bs3i1YD4Y9Ad"
   },
   "outputs": [],
   "source": [
    "import shap"
   ]
  },
  {
   "cell_type": "markdown",
   "metadata": {
    "id": "9iUvT67UY9Ae"
   },
   "source": [
    "**RandomForestRegressor**"
   ]
  },
  {
   "cell_type": "code",
   "execution_count": 21,
   "metadata": {
    "colab": {
     "base_uri": "https://localhost:8080/",
     "height": 360
    },
    "id": "IsK_uaF8Y9Af",
    "outputId": "bcf511fe-90b5-4883-fce4-ea430fe5dde9"
   },
   "outputs": [
    {
     "name": "stdout",
     "output_type": "stream",
     "text": [
      "[0.04370843 0.02938411 0.0885116  0.0296279  0.07494604 0.03086548\n",
      " 0.03366304 0.26066874 0.0336135  0.02035997 0.04553419 0.02251384\n",
      " 0.07786055 0.01192698 0.02929832 0.02437434 0.07513258 0.02299292\n",
      " 0.02789618 0.01712127]\n"
     ]
    },
    {
     "data": {
      "image/png": "[encoded data removed]",
      "text/plain": [
       "<Figure size 432x288 with 1 Axes>"
      ]
     },
     "metadata": {
      "needs_background": "light",
      "tags": []
     },
     "output_type": "display_data"
    }
   ],
   "source": [
    "rf = RandomForestRegressor(max_depth=32,n_estimators=20)\n",
    "rf.fit(X_train, Y_train)  \n",
    "print(rf.feature_importances_)\n",
    "f = plt.figure()\n",
    "importances = rf.feature_importances_\n",
    "indices = np.argsort(importances)\n",
    "features = X_train.columns\n",
    "plt.title('Feature Importances')\n",
    "plt.barh(range(len(indices)), importances[indices], color='b', align='center')\n",
    "plt.yticks(range(len(indices)), [features[i] for i in indices])\n",
    "plt.xlabel('Relative Importance')\n",
    "plt.show()\n",
    "f.savefig(\"/tmp/yuval/Feature Importances/RF.png\", bbox_inches='tight', dpi=600)"
   ]
  },
  {
   "cell_type": "code",
   "execution_count": 22,
   "metadata": {
    "colab": {
     "base_uri": "https://localhost:8080/"
    },
    "id": "UIqGO8-bY9Ag",
    "outputId": "d4b1cc80-da15-4d85-ee29-7af93553bb65"
   },
   "outputs": [
    {
     "name": "stderr",
     "output_type": "stream",
     "text": [
      "Using 122 background data samples could cause slower run times. Consider using shap.sample(data, K) or shap.kmeans(data, K) to summarize the background as K samples.\n"
     ]
    }
   ],
   "source": [
    "import shap\n",
    "rf_shap_values = shap.KernelExplainer(rf.predict,X_test)"
   ]
  },
  {
   "cell_type": "code",
   "execution_count": 23,
   "metadata": {
    "colab": {
     "base_uri": "https://localhost:8080/",
     "height": 65,
     "referenced_widgets": [
      "fe89a2e1894f4c2981b3553a0ce38df6",
      "faecd9e2a7244e5d9ee12a19b7269c4a",
      "30f6a60af21d47bfb867e837ed91400d",
      "2985f8c41c324742a36da1005bae5f97",
      "54913cae299b451b9b2ccd4101820d17",
      "094adda321344b2288eed29210bde4d4",
      "75776e65285640f69894c5f3714fefc6",
      "153b6b5ca24d404baf80764b7fd99e96"
     ]
    },
    "id": "38Y7nm1DY9Ah",
    "outputId": "95b31d1a-eb22-4f13-b8cf-e54a9808b6b2"
   },
   "outputs": [
    {
     "data": {
      "application/vnd.jupyter.widget-view+json": {
       "model_id": "fe89a2e1894f4c2981b3553a0ce38df6",
       "version_major": 2,
       "version_minor": 0
      },
      "text/plain": [
       "HBox(children=(FloatProgress(value=0.0, max=122.0), HTML(value='')))"
      ]
     },
     "metadata": {
      "tags": []
     },
     "output_type": "display_data"
    },
    {
     "name": "stdout",
     "output_type": "stream",
     "text": [
      "\n"
     ]
    }
   ],
   "source": [
    "rf_shap_values = rf_shap_values.shap_values( X_test)"
   ]
  },
  {
   "cell_type": "code",
   "execution_count": 24,
   "metadata": {
    "colab": {
     "base_uri": "https://localhost:8080/",
     "height": 585
    },
    "id": "yAs249QeY9Ah",
    "outputId": "869837fb-25c0-4e71-ba6e-a1c23d5fdb0f"
   },
   "outputs": [
    {
     "data": {
      "image/png": "[encoded data removed]",
      "text/plain": [
       "<Figure size 576x684 with 2 Axes>"
      ]
     },
     "metadata": {
      "needs_background": "light",
      "tags": []
     },
     "output_type": "display_data"
    }
   ],
   "source": [
    "import matplotlib.pyplot as plt\n",
    "f = plt.figure()\n",
    "shap.summary_plot(rf_shap_values, X_test)\n",
    "f.savefig(\"/tmp/yuval/RF.png\", bbox_inches='tight', dpi=600)"
   ]
  },
  {
   "cell_type": "markdown",
   "metadata": {
    "id": "woX-asWTY9Ai"
   },
   "source": [
    "**XGBoostClassifier**"
   ]
  },
  {
   "cell_type": "code",
   "execution_count": 27,
   "metadata": {
    "colab": {
     "base_uri": "https://localhost:8080/",
     "height": 376
    },
    "id": "kOLnlMwyY9Ai",
    "outputId": "180f014e-300a-42f7-9b5b-6182e8047908"
   },
   "outputs": [
    {
     "name": "stdout",
     "output_type": "stream",
     "text": [
      "[21:07:31] WARNING: /workspace/src/objective/regression_obj.cu:152: reg:linear is now deprecated in favor of reg:squarederror.\n",
      "[0.03035057 0.04988122 0.05486546 0.02369955 0.061687   0.04340364\n",
      " 0.03726095 0.11649603 0.10859244 0.03946879 0.06972976 0.04828664\n",
      " 0.04267175 0.01188519 0.03429708 0.06051994 0.06228873 0.01345427\n",
      " 0.03856863 0.05259241]\n"
     ]
    },
    {
     "data": {
      "image/png": "[encoded data removed]",
      "text/plain": [
       "<Figure size 432x288 with 1 Axes>"
      ]
     },
     "metadata": {
      "needs_background": "light",
      "tags": []
     },
     "output_type": "display_data"
    }
   ],
   "source": [
    "# xgboost\n",
    "import xgboost\n",
    "\n",
    "XGBC = xgboost.XGBRegressor(learning_rate=0.1, max_depth =32, n_estimators = 70)\n",
    "XGBC.fit(X_train.values, Y_train.values)  \n",
    "print(XGBC.feature_importances_)\n",
    "f = plt.figure()\n",
    "importances = XGBC.feature_importances_\n",
    "indices = np.argsort(importances)\n",
    "features = X_train.columns\n",
    "plt.title('Feature Importances')\n",
    "plt.barh(range(len(indices)), importances[indices], color='b', align='center')\n",
    "plt.yticks(range(len(indices)), [features[i] for i in indices])\n",
    "plt.xlabel('Relative Importance')\n",
    "plt.show()\n",
    "\n",
    "f.savefig(\"/tmp/yuval/Feature Importances/xgboost.png\", bbox_inches='tight', dpi=600)"
   ]
  },
  {
   "cell_type": "code",
   "execution_count": 28,
   "metadata": {
    "colab": {
     "base_uri": "https://localhost:8080/"
    },
    "id": "YYg6slgQY9Aj",
    "outputId": "cd933ded-f67e-4043-d571-5d921dd32b3f"
   },
   "outputs": [
    {
     "name": "stderr",
     "output_type": "stream",
     "text": [
      "Using 122 background data samples could cause slower run times. Consider using shap.sample(data, K) or shap.kmeans(data, K) to summarize the background as K samples.\n"
     ]
    }
   ],
   "source": [
    "XGBC =shap.KernelExplainer(XGBC.predict,X_test)"
   ]
  },
  {
   "cell_type": "code",
   "execution_count": 29,
   "metadata": {
    "colab": {
     "base_uri": "https://localhost:8080/",
     "height": 65,
     "referenced_widgets": [
      "c42aa62b027f41359f7104c4fbbb8b6e",
      "cb30d506bf9d4c348d428824fcfca7df",
      "d2ca05697958403bb557163eb7edc958",
      "ddcf8ccee07f45e0a13d38efa82fe212",
      "54a08e28656045989e04f9e2901309d9",
      "87b7be3e41a34ac783365d3250d22634",
      "61167e7ca0df4f3cb7e793e08623337b",
      "8b550b95f7f348ef811f417958e86c02"
     ]
    },
    "id": "_dPqOUnkY9Aj",
    "outputId": "429b9230-9840-44f3-ccf1-bf7697986d63"
   },
   "outputs": [
    {
     "data": {
      "application/vnd.jupyter.widget-view+json": {
       "model_id": "c42aa62b027f41359f7104c4fbbb8b6e",
       "version_major": 2,
       "version_minor": 0
      },
      "text/plain": [
       "HBox(children=(FloatProgress(value=0.0, max=122.0), HTML(value='')))"
      ]
     },
     "metadata": {
      "tags": []
     },
     "output_type": "display_data"
    },
    {
     "name": "stdout",
     "output_type": "stream",
     "text": [
      "\n"
     ]
    }
   ],
   "source": [
    "XGBC_shap_values = XGBC.shap_values( X_test)"
   ]
  },
  {
   "cell_type": "code",
   "execution_count": 30,
   "metadata": {
    "colab": {
     "base_uri": "https://localhost:8080/",
     "height": 585
    },
    "id": "jk4ld3_YY9Aj",
    "outputId": "dd729e0b-8504-48a2-b7aa-39d6a2ddc6ab"
   },
   "outputs": [
    {
     "data": {
      "image/png": "[encoded data removed]",
      "text/plain": [
       "<Figure size 576x684 with 2 Axes>"
      ]
     },
     "metadata": {
      "needs_background": "light",
      "tags": []
     },
     "output_type": "display_data"
    }
   ],
   "source": [
    "import matplotlib.pyplot as plt\n",
    "f = plt.figure()\n",
    "shap.summary_plot(XGBC_shap_values, X_test)\n",
    "f.savefig(\"/tmp/yuval/xgboost.png\", bbox_inches='tight', dpi=600)"
   ]
  },
  {
   "cell_type": "markdown",
   "metadata": {
    "id": "ouTE9VxDY9Ak"
   },
   "source": [
    "**CatBoost**"
   ]
  },
  {
   "cell_type": "code",
   "execution_count": 31,
   "metadata": {
    "colab": {
     "base_uri": "https://localhost:8080/",
     "height": 360
    },
    "id": "T45Z3uyKY9Ak",
    "outputId": "76d4871f-e35d-4850-b5b3-106eca814fa5"
   },
   "outputs": [
    {
     "name": "stdout",
     "output_type": "stream",
     "text": [
      "[ 4.20690143  2.97300549  8.06226599  4.43743937  3.81881099  4.34361962\n",
      "  3.10206033 20.23441531  3.56241126  3.97919479  8.50806795  4.24013106\n",
      "  6.00062248  2.72125765  3.75235257  2.18938686  5.34882695  3.58194887\n",
      "  3.3873615   1.54991953]\n"
     ]
    },
    {
     "data": {
      "image/png": "[encoded data removed]",
      "text/plain": [
       "<Figure size 432x288 with 1 Axes>"
      ]
     },
     "metadata": {
      "needs_background": "light",
      "tags": []
     },
     "output_type": "display_data"
    }
   ],
   "source": [
    "# Catboost \n",
    "CatBoost = CatBoostClassifier(silent=True)\n",
    "CatBoost = CatBoost.fit(X_train, Y_train)  \n",
    "print(CatBoost.feature_importances_)\n",
    "\n",
    "f = plt.figure()\n",
    "importances = CatBoost.feature_importances_\n",
    "indices = np.argsort(importances)\n",
    "features = X_train.columns\n",
    "plt.title('Feature Importances')\n",
    "plt.barh(range(len(indices)), importances[indices], color='b', align='center')\n",
    "plt.yticks(range(len(indices)), [features[i] for i in indices])\n",
    "plt.xlabel('Relative Importance')\n",
    "plt.show()\n",
    "f.savefig(\"/tmp/yuval/Feature Importances/CatBoost.png\", bbox_inches='tight', dpi=600)"
   ]
  },
  {
   "cell_type": "code",
   "execution_count": 32,
   "metadata": {
    "colab": {
     "base_uri": "https://localhost:8080/"
    },
    "id": "oaM1fgvTY9Al",
    "outputId": "931ca11a-75fa-49f0-d47a-390b7ffd1253"
   },
   "outputs": [
    {
     "name": "stderr",
     "output_type": "stream",
     "text": [
      "Using 122 background data samples could cause slower run times. Consider using shap.sample(data, K) or shap.kmeans(data, K) to summarize the background as K samples.\n"
     ]
    }
   ],
   "source": [
    "CatBoost_shap_values = shap.KernelExplainer(CatBoost.predict,X_test)"
   ]
  },
  {
   "cell_type": "code",
   "execution_count": 33,
   "metadata": {
    "colab": {
     "base_uri": "https://localhost:8080/",
     "height": 65,
     "referenced_widgets": [
      "f305e23e9410467484b3d72ff69723b8",
      "ab217414c8784f16a596b5d5a3ce56a7",
      "5257d0aae4994cce93ee35946f342f11",
      "725774b4ee9a404597202b8092a17773",
      "3a5d86df97bb48b5be4f5a6091cb94db",
      "14eaff8bf2964b7587a34e55df9ff962",
      "effdc31a256647a981da721edc44e49e",
      "bd5e6e3dc4bc4dc9b02a82626486ab8f"
     ]
    },
    "id": "6Nd9_CNtY9Al",
    "outputId": "50ede5d1-7f02-4831-a063-143de08aaf8c"
   },
   "outputs": [
    {
     "data": {
      "application/vnd.jupyter.widget-view+json": {
       "model_id": "f305e23e9410467484b3d72ff69723b8",
       "version_major": 2,
       "version_minor": 0
      },
      "text/plain": [
       "HBox(children=(FloatProgress(value=0.0, max=122.0), HTML(value='')))"
      ]
     },
     "metadata": {
      "tags": []
     },
     "output_type": "display_data"
    },
    {
     "name": "stdout",
     "output_type": "stream",
     "text": [
      "\n"
     ]
    }
   ],
   "source": [
    "CatBoost_shap_values = CatBoost_shap_values.shap_values( X_test)"
   ]
  },
  {
   "cell_type": "code",
   "execution_count": 34,
   "metadata": {
    "colab": {
     "base_uri": "https://localhost:8080/",
     "height": 585
    },
    "id": "aob580tOY9Al",
    "outputId": "3cedc8cb-479e-46e9-aaec-1faf6817da17"
   },
   "outputs": [
    {
     "data": {
      "image/png": "[encoded data removed]",
      "text/plain": [
       "<Figure size 576x684 with 2 Axes>"
      ]
     },
     "metadata": {
      "needs_background": "light",
      "tags": []
     },
     "output_type": "display_data"
    }
   ],
   "source": [
    "import matplotlib.pyplot as plt\n",
    "f = plt.figure()\n",
    "shap.summary_plot(CatBoost_shap_values, X_test)\n",
    "f.savefig(\"/tmp/yuval/CatBoost.png\", bbox_inches='tight', dpi=600)"
   ]
  },
  {
   "cell_type": "markdown",
   "metadata": {
    "id": "MnRQyc-6Y9Am"
   },
   "source": [
    "**LightGBM**"
   ]
  },
  {
   "cell_type": "code",
   "execution_count": 35,
   "metadata": {
    "colab": {
     "base_uri": "https://localhost:8080/",
     "height": 360
    },
    "id": "j6XBor5vY9Am",
    "outputId": "3b391899-d05e-4675-d4b0-848423b2d640"
   },
   "outputs": [
    {
     "name": "stdout",
     "output_type": "stream",
     "text": [
      "[ 4.20690143  2.97300549  8.06226599  4.43743937  3.81881099  4.34361962\n",
      "  3.10206033 20.23441531  3.56241126  3.97919479  8.50806795  4.24013106\n",
      "  6.00062248  2.72125765  3.75235257  2.18938686  5.34882695  3.58194887\n",
      "  3.3873615   1.54991953]\n"
     ]
    },
    {
     "data": {
      "image/png": "[encoded data removed]",
      "text/plain": [
       "<Figure size 432x288 with 1 Axes>"
      ]
     },
     "metadata": {
      "needs_background": "light",
      "tags": []
     },
     "output_type": "display_data"
    }
   ],
   "source": [
    "# LightGBM \n",
    "import lightgbm as lgb\n",
    "\n",
    "lgbm = lgb.LGBMClassifier()\n",
    "lgbm =  CatBoost.fit(X_train, Y_train)    \n",
    "print(lgbm.feature_importances_)\n",
    "f = plt.figure()\n",
    "importances = lgbm.feature_importances_\n",
    "indices = np.argsort(importances)\n",
    "features = X_train.columns\n",
    "plt.title('Feature Importances')\n",
    "plt.barh(range(len(indices)), importances[indices], color='b', align='center')\n",
    "plt.yticks(range(len(indices)), [features[i] for i in indices])\n",
    "plt.xlabel('Relative Importance')\n",
    "plt.show()\n",
    "f.savefig(\"/tmp/yuval/Feature Importances/LightGBM.png\", bbox_inches='tight', dpi=600)"
   ]
  },
  {
   "cell_type": "code",
   "execution_count": 36,
   "metadata": {
    "colab": {
     "base_uri": "https://localhost:8080/"
    },
    "id": "G5c6gJ5IY9An",
    "outputId": "26bef725-556f-4906-f461-244f17f68ed7"
   },
   "outputs": [
    {
     "name": "stderr",
     "output_type": "stream",
     "text": [
      "Using 122 background data samples could cause slower run times. Consider using shap.sample(data, K) or shap.kmeans(data, K) to summarize the background as K samples.\n"
     ]
    }
   ],
   "source": [
    "lgbm_shap_values = shap.KernelExplainer(lgbm.predict,X_test)"
   ]
  },
  {
   "cell_type": "code",
   "execution_count": 37,
   "metadata": {
    "colab": {
     "base_uri": "https://localhost:8080/",
     "height": 65,
     "referenced_widgets": [
      "6ebe4d3494f2463c9d00acef4031745a",
      "be1bcfb013784b6b977581034a3bc3d4",
      "68bdad33a2c649d0aeab4363b26f70c9",
      "9e3093d0ab184f58ae2261352a9e9c76",
      "d726223ebbf1462790fb755e044bf23e",
      "283c546f2527405688c659048d8babd1",
      "d9845244c06948fcb5ab3dc4b035e256",
      "cd676fa6e4814e1cbd0acbeee75189dd"
     ]
    },
    "id": "FqPzYc2HY9An",
    "outputId": "ba96a0ed-42bf-47c6-b793-802e63352fee"
   },
   "outputs": [
    {
     "data": {
      "application/vnd.jupyter.widget-view+json": {
       "model_id": "6ebe4d3494f2463c9d00acef4031745a",
       "version_major": 2,
       "version_minor": 0
      },
      "text/plain": [
       "HBox(children=(FloatProgress(value=0.0, max=122.0), HTML(value='')))"
      ]
     },
     "metadata": {
      "tags": []
     },
     "output_type": "display_data"
    },
    {
     "name": "stdout",
     "output_type": "stream",
     "text": [
      "\n"
     ]
    }
   ],
   "source": [
    "lgbm_shap_values = lgbm_shap_values.shap_values( X_test)"
   ]
  },
  {
   "cell_type": "code",
   "execution_count": 38,
   "metadata": {
    "colab": {
     "base_uri": "https://localhost:8080/",
     "height": 585
    },
    "id": "Xn97x94QY9Ao",
    "outputId": "ca4aa9f9-b5eb-42ff-f6ce-005674d15deb"
   },
   "outputs": [
    {
     "data": {
      "image/png": "[encoded data removed]",
      "text/plain": [
       "<Figure size 576x684 with 2 Axes>"
      ]
     },
     "metadata": {
      "needs_background": "light",
      "tags": []
     },
     "output_type": "display_data"
    }
   ],
   "source": [
    "import matplotlib.pyplot as plt\n",
    "f = plt.figure()\n",
    "shap.summary_plot(lgbm_shap_values, X_test)\n",
    "f.savefig(\"/tmp/yuval/LightGBM.png\", bbox_inches='tight', dpi=600)"
   ]
  }
 ],
 "metadata": {
  "accelerator": "GPU",
  "colab": {
   "collapsed_sections": [],
   "name": "lemidahishuvit.ipynb",
   "provenance": []
  },
  "kernelspec": {
   "display_name": "Python 3",
   "language": "python",
   "name": "python3"
  },
  "language_info": {
   "codemirror_mode": {
    "name": "ipython",
    "version": 3
   },
   "file_extension": ".py",
   "mimetype": "text/x-python",
   "name": "python",
   "nbconvert_exporter": "python",
   "pygments_lexer": "ipython3",
   "version": "3.8.3"
  },
  "widgets": {
   "application/vnd.jupyter.widget-state+json": {
    "094adda321344b2288eed29210bde4d4": {
     "model_module": "@jupyter-widgets/base",
     "model_name": "LayoutModel",
     "state": {
      "_model_module": "@jupyter-widgets/base",
      "_model_module_version": "1.2.0",
      "_model_name": "LayoutModel",
      "_view_count": null,
      "_view_module": "@jupyter-widgets/base",
      "_view_module_version": "1.2.0",
      "_view_name": "LayoutView",
      "align_content": null,
      "align_items": null,
      "align_self": null,
      "border": null,
      "bottom": null,
      "display": null,
      "flex": null,
      "flex_flow": null,
      "grid_area": null,
      "grid_auto_columns": null,
      "grid_auto_flow": null,
      "grid_auto_rows": null,
      "grid_column": null,
      "grid_gap": null,
      "grid_row": null,
      "grid_template_areas": null,
      "grid_template_columns": null,
      "grid_template_rows": null,
      "height": null,
      "justify_content": null,
      "justify_items": null,
      "left": null,
      "margin": null,
      "max_height": null,
      "max_width": null,
      "min_height": null,
      "min_width": null,
      "object_fit": null,
      "object_position": null,
      "order": null,
      "overflow": null,
      "overflow_x": null,
      "overflow_y": null,
      "padding": null,
      "right": null,
      "top": null,
      "visibility": null,
      "width": null
     }
    },
    "14eaff8bf2964b7587a34e55df9ff962": {
     "model_module": "@jupyter-widgets/base",
     "model_name": "LayoutModel",
     "state": {
      "_model_module": "@jupyter-widgets/base",
      "_model_module_version": "1.2.0",
      "_model_name": "LayoutModel",
      "_view_count": null,
      "_view_module": "@jupyter-widgets/base",
      "_view_module_version": "1.2.0",
      "_view_name": "LayoutView",
      "align_content": null,
      "align_items": null,
      "align_self": null,
      "border": null,
      "bottom": null,
      "display": null,
      "flex": null,
      "flex_flow": null,
      "grid_area": null,
      "grid_auto_columns": null,
      "grid_auto_flow": null,
      "grid_auto_rows": null,
      "grid_column": null,
      "grid_gap": null,
      "grid_row": null,
      "grid_template_areas": null,
      "grid_template_columns": null,
      "grid_template_rows": null,
      "height": null,
      "justify_content": null,
      "justify_items": null,
      "left": null,
      "margin": null,
      "max_height": null,
      "max_width": null,
      "min_height": null,
      "min_width": null,
      "object_fit": null,
      "object_position": null,
      "order": null,
      "overflow": null,
      "overflow_x": null,
      "overflow_y": null,
      "padding": null,
      "right": null,
      "top": null,
      "visibility": null,
      "width": null
     }
    },
    "153b6b5ca24d404baf80764b7fd99e96": {
     "model_module": "@jupyter-widgets/base",
     "model_name": "LayoutModel",
     "state": {
      "_model_module": "@jupyter-widgets/base",
      "_model_module_version": "1.2.0",
      "_model_name": "LayoutModel",
      "_view_count": null,
      "_view_module": "@jupyter-widgets/base",
      "_view_module_version": "1.2.0",
      "_view_name": "LayoutView",
      "align_content": null,
      "align_items": null,
      "align_self": null,
      "border": null,
      "bottom": null,
      "display": null,
      "flex": null,
      "flex_flow": null,
      "grid_area": null,
      "grid_auto_columns": null,
      "grid_auto_flow": null,
      "grid_auto_rows": null,
      "grid_column": null,
      "grid_gap": null,
      "grid_row": null,
      "grid_template_areas": null,
      "grid_template_columns": null,
      "grid_template_rows": null,
      "height": null,
      "justify_content": null,
      "justify_items": null,
      "left": null,
      "margin": null,
      "max_height": null,
      "max_width": null,
      "min_height": null,
      "min_width": null,
      "object_fit": null,
      "object_position": null,
      "order": null,
      "overflow": null,
      "overflow_x": null,
      "overflow_y": null,
      "padding": null,
      "right": null,
      "top": null,
      "visibility": null,
      "width": null
     }
    },
    "283c546f2527405688c659048d8babd1": {
     "model_module": "@jupyter-widgets/base",
     "model_name": "LayoutModel",
     "state": {
      "_model_module": "@jupyter-widgets/base",
      "_model_module_version": "1.2.0",
      "_model_name": "LayoutModel",
      "_view_count": null,
      "_view_module": "@jupyter-widgets/base",
      "_view_module_version": "1.2.0",
      "_view_name": "LayoutView",
      "align_content": null,
      "align_items": null,
      "align_self": null,
      "border": null,
      "bottom": null,
      "display": null,
      "flex": null,
      "flex_flow": null,
      "grid_area": null,
      "grid_auto_columns": null,
      "grid_auto_flow": null,
      "grid_auto_rows": null,
      "grid_column": null,
      "grid_gap": null,
      "grid_row": null,
      "grid_template_areas": null,
      "grid_template_columns": null,
      "grid_template_rows": null,
      "height": null,
      "justify_content": null,
      "justify_items": null,
      "left": null,
      "margin": null,
      "max_height": null,
      "max_width": null,
      "min_height": null,
      "min_width": null,
      "object_fit": null,
      "object_position": null,
      "order": null,
      "overflow": null,
      "overflow_x": null,
      "overflow_y": null,
      "padding": null,
      "right": null,
      "top": null,
      "visibility": null,
      "width": null
     }
    },
    "2985f8c41c324742a36da1005bae5f97": {
     "model_module": "@jupyter-widgets/controls",
     "model_name": "HTMLModel",
     "state": {
      "_dom_classes": [],
      "_model_module": "@jupyter-widgets/controls",
      "_model_module_version": "1.5.0",
      "_model_name": "HTMLModel",
      "_view_count": null,
      "_view_module": "@jupyter-widgets/controls",
      "_view_module_version": "1.5.0",
      "_view_name": "HTMLView",
      "description": "",
      "description_tooltip": null,
      "layout": "IPY_MODEL_153b6b5ca24d404baf80764b7fd99e96",
      "placeholder": "​",
      "style": "IPY_MODEL_75776e65285640f69894c5f3714fefc6",
      "value": " 122/122 [24:48&lt;00:00, 12.20s/it]"
     }
    },
    "30f6a60af21d47bfb867e837ed91400d": {
     "model_module": "@jupyter-widgets/controls",
     "model_name": "FloatProgressModel",
     "state": {
      "_dom_classes": [],
      "_model_module": "@jupyter-widgets/controls",
      "_model_module_version": "1.5.0",
      "_model_name": "FloatProgressModel",
      "_view_count": null,
      "_view_module": "@jupyter-widgets/controls",
      "_view_module_version": "1.5.0",
      "_view_name": "ProgressView",
      "bar_style": "success",
      "description": "100%",
      "description_tooltip": null,
      "layout": "IPY_MODEL_094adda321344b2288eed29210bde4d4",
      "max": 122,
      "min": 0,
      "orientation": "horizontal",
      "style": "IPY_MODEL_54913cae299b451b9b2ccd4101820d17",
      "value": 122
     }
    },
    "3a5d86df97bb48b5be4f5a6091cb94db": {
     "model_module": "@jupyter-widgets/controls",
     "model_name": "ProgressStyleModel",
     "state": {
      "_model_module": "@jupyter-widgets/controls",
      "_model_module_version": "1.5.0",
      "_model_name": "ProgressStyleModel",
      "_view_count": null,
      "_view_module": "@jupyter-widgets/base",
      "_view_module_version": "1.2.0",
      "_view_name": "StyleView",
      "bar_color": null,
      "description_width": "initial"
     }
    },
    "5257d0aae4994cce93ee35946f342f11": {
     "model_module": "@jupyter-widgets/controls",
     "model_name": "FloatProgressModel",
     "state": {
      "_dom_classes": [],
      "_model_module": "@jupyter-widgets/controls",
      "_model_module_version": "1.5.0",
      "_model_name": "FloatProgressModel",
      "_view_count": null,
      "_view_module": "@jupyter-widgets/controls",
      "_view_module_version": "1.5.0",
      "_view_name": "ProgressView",
      "bar_style": "success",
      "description": "100%",
      "description_tooltip": null,
      "layout": "IPY_MODEL_14eaff8bf2964b7587a34e55df9ff962",
      "max": 122,
      "min": 0,
      "orientation": "horizontal",
      "style": "IPY_MODEL_3a5d86df97bb48b5be4f5a6091cb94db",
      "value": 122
     }
    },
    "54913cae299b451b9b2ccd4101820d17": {
     "model_module": "@jupyter-widgets/controls",
     "model_name": "ProgressStyleModel",
     "state": {
      "_model_module": "@jupyter-widgets/controls",
      "_model_module_version": "1.5.0",
      "_model_name": "ProgressStyleModel",
      "_view_count": null,
      "_view_module": "@jupyter-widgets/base",
      "_view_module_version": "1.2.0",
      "_view_name": "StyleView",
      "bar_color": null,
      "description_width": "initial"
     }
    },
    "54a08e28656045989e04f9e2901309d9": {
     "model_module": "@jupyter-widgets/controls",
     "model_name": "ProgressStyleModel",
     "state": {
      "_model_module": "@jupyter-widgets/controls",
      "_model_module_version": "1.5.0",
      "_model_name": "ProgressStyleModel",
      "_view_count": null,
      "_view_module": "@jupyter-widgets/base",
      "_view_module_version": "1.2.0",
      "_view_name": "StyleView",
      "bar_color": null,
      "description_width": "initial"
     }
    },
    "61167e7ca0df4f3cb7e793e08623337b": {
     "model_module": "@jupyter-widgets/controls",
     "model_name": "DescriptionStyleModel",
     "state": {
      "_model_module": "@jupyter-widgets/controls",
      "_model_module_version": "1.5.0",
      "_model_name": "DescriptionStyleModel",
      "_view_count": null,
      "_view_module": "@jupyter-widgets/base",
      "_view_module_version": "1.2.0",
      "_view_name": "StyleView",
      "description_width": ""
     }
    },
    "68bdad33a2c649d0aeab4363b26f70c9": {
     "model_module": "@jupyter-widgets/controls",
     "model_name": "FloatProgressModel",
     "state": {
      "_dom_classes": [],
      "_model_module": "@jupyter-widgets/controls",
      "_model_module_version": "1.5.0",
      "_model_name": "FloatProgressModel",
      "_view_count": null,
      "_view_module": "@jupyter-widgets/controls",
      "_view_module_version": "1.5.0",
      "_view_name": "ProgressView",
      "bar_style": "success",
      "description": "100%",
      "description_tooltip": null,
      "layout": "IPY_MODEL_283c546f2527405688c659048d8babd1",
      "max": 122,
      "min": 0,
      "orientation": "horizontal",
      "style": "IPY_MODEL_d726223ebbf1462790fb755e044bf23e",
      "value": 122
     }
    },
    "6ebe4d3494f2463c9d00acef4031745a": {
     "model_module": "@jupyter-widgets/controls",
     "model_name": "HBoxModel",
     "state": {
      "_dom_classes": [],
      "_model_module": "@jupyter-widgets/controls",
      "_model_module_version": "1.5.0",
      "_model_name": "HBoxModel",
      "_view_count": null,
      "_view_module": "@jupyter-widgets/controls",
      "_view_module_version": "1.5.0",
      "_view_name": "HBoxView",
      "box_style": "",
      "children": [
       "IPY_MODEL_68bdad33a2c649d0aeab4363b26f70c9",
       "IPY_MODEL_9e3093d0ab184f58ae2261352a9e9c76"
      ],
      "layout": "IPY_MODEL_be1bcfb013784b6b977581034a3bc3d4"
     }
    },
    "725774b4ee9a404597202b8092a17773": {
     "model_module": "@jupyter-widgets/controls",
     "model_name": "HTMLModel",
     "state": {
      "_dom_classes": [],
      "_model_module": "@jupyter-widgets/controls",
      "_model_module_version": "1.5.0",
      "_model_name": "HTMLModel",
      "_view_count": null,
      "_view_module": "@jupyter-widgets/controls",
      "_view_module_version": "1.5.0",
      "_view_name": "HTMLView",
      "description": "",
      "description_tooltip": null,
      "layout": "IPY_MODEL_bd5e6e3dc4bc4dc9b02a82626486ab8f",
      "placeholder": "​",
      "style": "IPY_MODEL_effdc31a256647a981da721edc44e49e",
      "value": " 122/122 [06:22&lt;00:00,  3.13s/it]"
     }
    },
    "75776e65285640f69894c5f3714fefc6": {
     "model_module": "@jupyter-widgets/controls",
     "model_name": "DescriptionStyleModel",
     "state": {
      "_model_module": "@jupyter-widgets/controls",
      "_model_module_version": "1.5.0",
      "_model_name": "DescriptionStyleModel",
      "_view_count": null,
      "_view_module": "@jupyter-widgets/base",
      "_view_module_version": "1.2.0",
      "_view_name": "StyleView",
      "description_width": ""
     }
    },
    "87b7be3e41a34ac783365d3250d22634": {
     "model_module": "@jupyter-widgets/base",
     "model_name": "LayoutModel",
     "state": {
      "_model_module": "@jupyter-widgets/base",
      "_model_module_version": "1.2.0",
      "_model_name": "LayoutModel",
      "_view_count": null,
      "_view_module": "@jupyter-widgets/base",
      "_view_module_version": "1.2.0",
      "_view_name": "LayoutView",
      "align_content": null,
      "align_items": null,
      "align_self": null,
      "border": null,
      "bottom": null,
      "display": null,
      "flex": null,
      "flex_flow": null,
      "grid_area": null,
      "grid_auto_columns": null,
      "grid_auto_flow": null,
      "grid_auto_rows": null,
      "grid_column": null,
      "grid_gap": null,
      "grid_row": null,
      "grid_template_areas": null,
      "grid_template_columns": null,
      "grid_template_rows": null,
      "height": null,
      "justify_content": null,
      "justify_items": null,
      "left": null,
      "margin": null,
      "max_height": null,
      "max_width": null,
      "min_height": null,
      "min_width": null,
      "object_fit": null,
      "object_position": null,
      "order": null,
      "overflow": null,
      "overflow_x": null,
      "overflow_y": null,
      "padding": null,
      "right": null,
      "top": null,
      "visibility": null,
      "width": null
     }
    },
    "8b550b95f7f348ef811f417958e86c02": {
     "model_module": "@jupyter-widgets/base",
     "model_name": "LayoutModel",
     "state": {
      "_model_module": "@jupyter-widgets/base",
      "_model_module_version": "1.2.0",
      "_model_name": "LayoutModel",
      "_view_count": null,
      "_view_module": "@jupyter-widgets/base",
      "_view_module_version": "1.2.0",
      "_view_name": "LayoutView",
      "align_content": null,
      "align_items": null,
      "align_self": null,
      "border": null,
      "bottom": null,
      "display": null,
      "flex": null,
      "flex_flow": null,
      "grid_area": null,
      "grid_auto_columns": null,
      "grid_auto_flow": null,
      "grid_auto_rows": null,
      "grid_column": null,
      "grid_gap": null,
      "grid_row": null,
      "grid_template_areas": null,
      "grid_template_columns": null,
      "grid_template_rows": null,
      "height": null,
      "justify_content": null,
      "justify_items": null,
      "left": null,
      "margin": null,
      "max_height": null,
      "max_width": null,
      "min_height": null,
      "min_width": null,
      "object_fit": null,
      "object_position": null,
      "order": null,
      "overflow": null,
      "overflow_x": null,
      "overflow_y": null,
      "padding": null,
      "right": null,
      "top": null,
      "visibility": null,
      "width": null
     }
    },
    "9e3093d0ab184f58ae2261352a9e9c76": {
     "model_module": "@jupyter-widgets/controls",
     "model_name": "HTMLModel",
     "state": {
      "_dom_classes": [],
      "_model_module": "@jupyter-widgets/controls",
      "_model_module_version": "1.5.0",
      "_model_name": "HTMLModel",
      "_view_count": null,
      "_view_module": "@jupyter-widgets/controls",
      "_view_module_version": "1.5.0",
      "_view_name": "HTMLView",
      "description": "",
      "description_tooltip": null,
      "layout": "IPY_MODEL_cd676fa6e4814e1cbd0acbeee75189dd",
      "placeholder": "​",
      "style": "IPY_MODEL_d9845244c06948fcb5ab3dc4b035e256",
      "value": " 122/122 [05:41&lt;00:00,  2.80s/it]"
     }
    },
    "ab217414c8784f16a596b5d5a3ce56a7": {
     "model_module": "@jupyter-widgets/base",
     "model_name": "LayoutModel",
     "state": {
      "_model_module": "@jupyter-widgets/base",
      "_model_module_version": "1.2.0",
      "_model_name": "LayoutModel",
      "_view_count": null,
      "_view_module": "@jupyter-widgets/base",
      "_view_module_version": "1.2.0",
      "_view_name": "LayoutView",
      "align_content": null,
      "align_items": null,
      "align_self": null,
      "border": null,
      "bottom": null,
      "display": null,
      "flex": null,
      "flex_flow": null,
      "grid_area": null,
      "grid_auto_columns": null,
      "grid_auto_flow": null,
      "grid_auto_rows": null,
      "grid_column": null,
      "grid_gap": null,
      "grid_row": null,
      "grid_template_areas": null,
      "grid_template_columns": null,
      "grid_template_rows": null,
      "height": null,
      "justify_content": null,
      "justify_items": null,
      "left": null,
      "margin": null,
      "max_height": null,
      "max_width": null,
      "min_height": null,
      "min_width": null,
      "object_fit": null,
      "object_position": null,
      "order": null,
      "overflow": null,
      "overflow_x": null,
      "overflow_y": null,
      "padding": null,
      "right": null,
      "top": null,
      "visibility": null,
      "width": null
     }
    },
    "bd5e6e3dc4bc4dc9b02a82626486ab8f": {
     "model_module": "@jupyter-widgets/base",
     "model_name": "LayoutModel",
     "state": {
      "_model_module": "@jupyter-widgets/base",
      "_model_module_version": "1.2.0",
      "_model_name": "LayoutModel",
      "_view_count": null,
      "_view_module": "@jupyter-widgets/base",
      "_view_module_version": "1.2.0",
      "_view_name": "LayoutView",
      "align_content": null,
      "align_items": null,
      "align_self": null,
      "border": null,
      "bottom": null,
      "display": null,
      "flex": null,
      "flex_flow": null,
      "grid_area": null,
      "grid_auto_columns": null,
      "grid_auto_flow": null,
      "grid_auto_rows": null,
      "grid_column": null,
      "grid_gap": null,
      "grid_row": null,
      "grid_template_areas": null,
      "grid_template_columns": null,
      "grid_template_rows": null,
      "height": null,
      "justify_content": null,
      "justify_items": null,
      "left": null,
      "margin": null,
      "max_height": null,
      "max_width": null,
      "min_height": null,
      "min_width": null,
      "object_fit": null,
      "object_position": null,
      "order": null,
      "overflow": null,
      "overflow_x": null,
      "overflow_y": null,
      "padding": null,
      "right": null,
      "top": null,
      "visibility": null,
      "width": null
     }
    },
    "be1bcfb013784b6b977581034a3bc3d4": {
     "model_module": "@jupyter-widgets/base",
     "model_name": "LayoutModel",
     "state": {
      "_model_module": "@jupyter-widgets/base",
      "_model_module_version": "1.2.0",
      "_model_name": "LayoutModel",
      "_view_count": null,
      "_view_module": "@jupyter-widgets/base",
      "_view_module_version": "1.2.0",
      "_view_name": "LayoutView",
      "align_content": null,
      "align_items": null,
      "align_self": null,
      "border": null,
      "bottom": null,
      "display": null,
      "flex": null,
      "flex_flow": null,
      "grid_area": null,
      "grid_auto_columns": null,
      "grid_auto_flow": null,
      "grid_auto_rows": null,
      "grid_column": null,
      "grid_gap": null,
      "grid_row": null,
      "grid_template_areas": null,
      "grid_template_columns": null,
      "grid_template_rows": null,
      "height": null,
      "justify_content": null,
      "justify_items": null,
      "left": null,
      "margin": null,
      "max_height": null,
      "max_width": null,
      "min_height": null,
      "min_width": null,
      "object_fit": null,
      "object_position": null,
      "order": null,
      "overflow": null,
      "overflow_x": null,
      "overflow_y": null,
      "padding": null,
      "right": null,
      "top": null,
      "visibility": null,
      "width": null
     }
    },
    "c42aa62b027f41359f7104c4fbbb8b6e": {
     "model_module": "@jupyter-widgets/controls",
     "model_name": "HBoxModel",
     "state": {
      "_dom_classes": [],
      "_model_module": "@jupyter-widgets/controls",
      "_model_module_version": "1.5.0",
      "_model_name": "HBoxModel",
      "_view_count": null,
      "_view_module": "@jupyter-widgets/controls",
      "_view_module_version": "1.5.0",
      "_view_name": "HBoxView",
      "box_style": "",
      "children": [
       "IPY_MODEL_d2ca05697958403bb557163eb7edc958",
       "IPY_MODEL_ddcf8ccee07f45e0a13d38efa82fe212"
      ],
      "layout": "IPY_MODEL_cb30d506bf9d4c348d428824fcfca7df"
     }
    },
    "cb30d506bf9d4c348d428824fcfca7df": {
     "model_module": "@jupyter-widgets/base",
     "model_name": "LayoutModel",
     "state": {
      "_model_module": "@jupyter-widgets/base",
      "_model_module_version": "1.2.0",
      "_model_name": "LayoutModel",
      "_view_count": null,
      "_view_module": "@jupyter-widgets/base",
      "_view_module_version": "1.2.0",
      "_view_name": "LayoutView",
      "align_content": null,
      "align_items": null,
      "align_self": null,
      "border": null,
      "bottom": null,
      "display": null,
      "flex": null,
      "flex_flow": null,
      "grid_area": null,
      "grid_auto_columns": null,
      "grid_auto_flow": null,
      "grid_auto_rows": null,
      "grid_column": null,
      "grid_gap": null,
      "grid_row": null,
      "grid_template_areas": null,
      "grid_template_columns": null,
      "grid_template_rows": null,
      "height": null,
      "justify_content": null,
      "justify_items": null,
      "left": null,
      "margin": null,
      "max_height": null,
      "max_width": null,
      "min_height": null,
      "min_width": null,
      "object_fit": null,
      "object_position": null,
      "order": null,
      "overflow": null,
      "overflow_x": null,
      "overflow_y": null,
      "padding": null,
      "right": null,
      "top": null,
      "visibility": null,
      "width": null
     }
    },
    "cd676fa6e4814e1cbd0acbeee75189dd": {
     "model_module": "@jupyter-widgets/base",
     "model_name": "LayoutModel",
     "state": {
      "_model_module": "@jupyter-widgets/base",
      "_model_module_version": "1.2.0",
      "_model_name": "LayoutModel",
      "_view_count": null,
      "_view_module": "@jupyter-widgets/base",
      "_view_module_version": "1.2.0",
      "_view_name": "LayoutView",
      "align_content": null,
      "align_items": null,
      "align_self": null,
      "border": null,
      "bottom": null,
      "display": null,
      "flex": null,
      "flex_flow": null,
      "grid_area": null,
      "grid_auto_columns": null,
      "grid_auto_flow": null,
      "grid_auto_rows": null,
      "grid_column": null,
      "grid_gap": null,
      "grid_row": null,
      "grid_template_areas": null,
      "grid_template_columns": null,
      "grid_template_rows": null,
      "height": null,
      "justify_content": null,
      "justify_items": null,
      "left": null,
      "margin": null,
      "max_height": null,
      "max_width": null,
      "min_height": null,
      "min_width": null,
      "object_fit": null,
      "object_position": null,
      "order": null,
      "overflow": null,
      "overflow_x": null,
      "overflow_y": null,
      "padding": null,
      "right": null,
      "top": null,
      "visibility": null,
      "width": null
     }
    },
    "d2ca05697958403bb557163eb7edc958": {
     "model_module": "@jupyter-widgets/controls",
     "model_name": "FloatProgressModel",
     "state": {
      "_dom_classes": [],
      "_model_module": "@jupyter-widgets/controls",
      "_model_module_version": "1.5.0",
      "_model_name": "FloatProgressModel",
      "_view_count": null,
      "_view_module": "@jupyter-widgets/controls",
      "_view_module_version": "1.5.0",
      "_view_name": "ProgressView",
      "bar_style": "success",
      "description": "100%",
      "description_tooltip": null,
      "layout": "IPY_MODEL_87b7be3e41a34ac783365d3250d22634",
      "max": 122,
      "min": 0,
      "orientation": "horizontal",
      "style": "IPY_MODEL_54a08e28656045989e04f9e2901309d9",
      "value": 122
     }
    },
    "d726223ebbf1462790fb755e044bf23e": {
     "model_module": "@jupyter-widgets/controls",
     "model_name": "ProgressStyleModel",
     "state": {
      "_model_module": "@jupyter-widgets/controls",
      "_model_module_version": "1.5.0",
      "_model_name": "ProgressStyleModel",
      "_view_count": null,
      "_view_module": "@jupyter-widgets/base",
      "_view_module_version": "1.2.0",
      "_view_name": "StyleView",
      "bar_color": null,
      "description_width": "initial"
     }
    },
    "d9845244c06948fcb5ab3dc4b035e256": {
     "model_module": "@jupyter-widgets/controls",
     "model_name": "DescriptionStyleModel",
     "state": {
      "_model_module": "@jupyter-widgets/controls",
      "_model_module_version": "1.5.0",
      "_model_name": "DescriptionStyleModel",
      "_view_count": null,
      "_view_module": "@jupyter-widgets/base",
      "_view_module_version": "1.2.0",
      "_view_name": "StyleView",
      "description_width": ""
     }
    },
    "ddcf8ccee07f45e0a13d38efa82fe212": {
     "model_module": "@jupyter-widgets/controls",
     "model_name": "HTMLModel",
     "state": {
      "_dom_classes": [],
      "_model_module": "@jupyter-widgets/controls",
      "_model_module_version": "1.5.0",
      "_model_name": "HTMLModel",
      "_view_count": null,
      "_view_module": "@jupyter-widgets/controls",
      "_view_module_version": "1.5.0",
      "_view_name": "HTMLView",
      "description": "",
      "description_tooltip": null,
      "layout": "IPY_MODEL_8b550b95f7f348ef811f417958e86c02",
      "placeholder": "​",
      "style": "IPY_MODEL_61167e7ca0df4f3cb7e793e08623337b",
      "value": " 122/122 [12:37&lt;00:00,  6.21s/it]"
     }
    },
    "effdc31a256647a981da721edc44e49e": {
     "model_module": "@jupyter-widgets/controls",
     "model_name": "DescriptionStyleModel",
     "state": {
      "_model_module": "@jupyter-widgets/controls",
      "_model_module_version": "1.5.0",
      "_model_name": "DescriptionStyleModel",
      "_view_count": null,
      "_view_module": "@jupyter-widgets/base",
      "_view_module_version": "1.2.0",
      "_view_name": "StyleView",
      "description_width": ""
     }
    },
    "f305e23e9410467484b3d72ff69723b8": {
     "model_module": "@jupyter-widgets/controls",
     "model_name": "HBoxModel",
     "state": {
      "_dom_classes": [],
      "_model_module": "@jupyter-widgets/controls",
      "_model_module_version": "1.5.0",
      "_model_name": "HBoxModel",
      "_view_count": null,
      "_view_module": "@jupyter-widgets/controls",
      "_view_module_version": "1.5.0",
      "_view_name": "HBoxView",
      "box_style": "",
      "children": [
       "IPY_MODEL_5257d0aae4994cce93ee35946f342f11",
       "IPY_MODEL_725774b4ee9a404597202b8092a17773"
      ],
      "layout": "IPY_MODEL_ab217414c8784f16a596b5d5a3ce56a7"
     }
    },
    "faecd9e2a7244e5d9ee12a19b7269c4a": {
     "model_module": "@jupyter-widgets/base",
     "model_name": "LayoutModel",
     "state": {
      "_model_module": "@jupyter-widgets/base",
      "_model_module_version": "1.2.0",
      "_model_name": "LayoutModel",
      "_view_count": null,
      "_view_module": "@jupyter-widgets/base",
      "_view_module_version": "1.2.0",
      "_view_name": "LayoutView",
      "align_content": null,
      "align_items": null,
      "align_self": null,
      "border": null,
      "bottom": null,
      "display": null,
      "flex": null,
      "flex_flow": null,
      "grid_area": null,
      "grid_auto_columns": null,
      "grid_auto_flow": null,
      "grid_auto_rows": null,
      "grid_column": null,
      "grid_gap": null,
      "grid_row": null,
      "grid_template_areas": null,
      "grid_template_columns": null,
      "grid_template_rows": null,
      "height": null,
      "justify_content": null,
      "justify_items": null,
      "left": null,
      "margin": null,
      "max_height": null,
      "max_width": null,
      "min_height": null,
      "min_width": null,
      "object_fit": null,
      "object_position": null,
      "order": null,
      "overflow": null,
      "overflow_x": null,
      "overflow_y": null,
      "padding": null,
      "right": null,
      "top": null,
      "visibility": null,
      "width": null
     }
    },
    "fe89a2e1894f4c2981b3553a0ce38df6": {
     "model_module": "@jupyter-widgets/controls",
     "model_name": "HBoxModel",
     "state": {
      "_dom_classes": [],
      "_model_module": "@jupyter-widgets/controls",
      "_model_module_version": "1.5.0",
      "_model_name": "HBoxModel",
      "_view_count": null,
      "_view_module": "@jupyter-widgets/controls",
      "_view_module_version": "1.5.0",
      "_view_name": "HBoxView",
      "box_style": "",
      "children": [
       "IPY_MODEL_30f6a60af21d47bfb867e837ed91400d",
       "IPY_MODEL_2985f8c41c324742a36da1005bae5f97"
      ],
      "layout": "IPY_MODEL_faecd9e2a7244e5d9ee12a19b7269c4a"
     }
    }
   }
  }
 },
 "nbformat": 4,
 "nbformat_minor": 1
}
